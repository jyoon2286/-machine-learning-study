{
 "cells": [
  {
   "cell_type": "code",
   "execution_count": 35,
   "metadata": {
    "id": "pKH7azoikn4h"
   },
   "outputs": [],
   "source": [
    "import tensorflow as tf\n",
    "from tensorflow import keras\n",
    "import numpy as np\n",
    "from scipy.io import loadmat\n",
    "from matplotlib import pyplot as plt \n",
    "import os # required to access the data path\n",
    "\n",
    "%matplotlib inline"
   ]
  },
  {
   "cell_type": "code",
   "execution_count": 36,
   "metadata": {
    "colab": {
     "base_uri": "https://localhost:8080/"
    },
    "id": "ZDNR53PDOthx",
    "outputId": "674d9f3f-6458-482a-d545-4720eb3c93a3"
   },
   "outputs": [
    {
     "name": "stdout",
     "output_type": "stream",
     "text": [
      "Drive already mounted at /content/drive; to attempt to forcibly remount, call drive.mount(\"/content/drive\", force_remount=True).\n"
     ]
    }
   ],
   "source": [
    "from google.colab import drive\n",
    "drive.mount('/content/drive')"
   ]
  },
  {
   "cell_type": "code",
   "execution_count": 37,
   "metadata": {
    "id": "95dF5RwkGfYV"
   },
   "outputs": [],
   "source": [
    "DATA_PATH = '/content/drive/MyDrive/Kim/mnist_mine.mat' "
   ]
  },
  {
   "cell_type": "code",
   "execution_count": 38,
   "metadata": {
    "colab": {
     "base_uri": "https://localhost:8080/"
    },
    "id": "2NghmHPVINwq",
    "outputId": "b82adbcc-ef37-4db5-fde3-adf3da7d29ff"
   },
   "outputs": [
    {
     "data": {
      "text/plain": [
       "dict_keys(['__header__', '__version__', '__globals__', 'testX', 'testY', 'trainY', 'trainX'])"
      ]
     },
     "execution_count": 38,
     "metadata": {
      "tags": []
     },
     "output_type": "execute_result"
    }
   ],
   "source": [
    "data = loadmat(DATA_PATH)\n",
    "data.keys()"
   ]
  },
  {
   "cell_type": "code",
   "execution_count": 39,
   "metadata": {
    "id": "TRlVTEp8kuQO"
   },
   "outputs": [],
   "source": [
    "X_train = loadmat(DATA_PATH)['trainX']\n",
    "y_train = loadmat(DATA_PATH)['trainY']\n",
    "\n",
    "X_test = loadmat(DATA_PATH)['testX']\n",
    "y_test = loadmat(DATA_PATH)['testY']"
   ]
  },
  {
   "cell_type": "code",
   "execution_count": 40,
   "metadata": {
    "colab": {
     "base_uri": "https://localhost:8080/"
    },
    "id": "UBuUn0vRHo6l",
    "outputId": "381eb17e-ec72-4424-fde0-5e497636698c"
   },
   "outputs": [
    {
     "data": {
      "text/plain": [
       "((60000, 784), (1, 60000))"
      ]
     },
     "execution_count": 40,
     "metadata": {
      "tags": []
     },
     "output_type": "execute_result"
    }
   ],
   "source": [
    "X_train.shape, y_train.shape"
   ]
  },
  {
   "cell_type": "code",
   "execution_count": 41,
   "metadata": {
    "colab": {
     "base_uri": "https://localhost:8080/",
     "height": 282
    },
    "id": "vI1N7p9_uSzT",
    "outputId": "b50ab79b-bc28-4a70-e78a-c8d55de638d3"
   },
   "outputs": [
    {
     "data": {
      "text/plain": [
       "<matplotlib.image.AxesImage at 0x7fb9e0214748>"
      ]
     },
     "execution_count": 41,
     "metadata": {
      "tags": []
     },
     "output_type": "execute_result"
    },
    {
     "data": {
      "image/png": "[encoded data removed]",
      "text/plain": [
       "<Figure size 432x288 with 1 Axes>"
      ]
     },
     "metadata": {
      "needs_background": "light",
      "tags": []
     },
     "output_type": "display_data"
    }
   ],
   "source": [
    "m = X_train.shape[0]\n",
    "plt.imshow(X_train[10].reshape(28, 28))"
   ]
  },
  {
   "cell_type": "code",
   "execution_count": 42,
   "metadata": {
    "colab": {
     "base_uri": "https://localhost:8080/"
    },
    "id": "M8FhoA1hlFzg",
    "outputId": "07c470ad-76f2-4f9f-9115-c3d521526a5f"
   },
   "outputs": [
    {
     "name": "stdout",
     "output_type": "stream",
     "text": [
      "X_train shape: (60000, 28, 28, 1) \n",
      "X_test shape: (10000, 28, 28, 1)\n"
     ]
    }
   ],
   "source": [
    "# reshape image features before feeding it to the CNN\n",
    "# also normalize the image pixels\n",
    "X_train = X_train.reshape(m, 28, 28, 1).astype('float32') / 255.\n",
    "X_test = X_test.reshape(10000, 28, 28, 1).astype('float32') / 255\n",
    "\n",
    "print(f\"X_train shape: {X_train.shape} \\nX_test shape: {X_test.shape}\")"
   ]
  },
  {
   "cell_type": "code",
   "execution_count": 43,
   "metadata": {
    "id": "y1AwUK5yqEOK"
   },
   "outputs": [],
   "source": [
    "y_train = y_train.reshape(60000, ).astype('int32')\n",
    "y_test = y_test.reshape(10000, ).astype('int32')"
   ]
  },
  {
   "cell_type": "markdown",
   "metadata": {
    "id": "tgwIz7DDFCq8"
   },
   "source": [
    "## Experimenting with different architectures\n",
    "\n",
    "Initially there was an overfitting problem where the train accuracy was higher than the validation accuracy. I tried reducing the number of layers in the architecture but then the model was starting to lose accuracy on both the train and validation sets. This was because the model was so small it could not learn the mapping completely. \n",
    "\n",
    "However, I found the sweet spot of adding a Dropout layer with a 0.5 rate which prevented overfitting while still allowing me to get 0.99+ accuracy on the validation set.\n",
    "\n",
    "The accuracy plateaued at around 10-12 epochs so training beyond 15 epochs max seemed pointless.\n",
    "\n",
    "`Adam` and `Adamax` optimizers outdid `RMSprop`. Both of these optimizers were equally good. `RMSprop` could not achieve more than 99% accuracy keeping every other hyperparameter constant."
   ]
  },
  {
   "cell_type": "code",
   "execution_count": 48,
   "metadata": {
    "id": "aXLeB5VPlbo8"
   },
   "outputs": [],
   "source": [
    "model = None # reset \n",
    "model = keras.Sequential(\n",
    "    [\n",
    "      tf.keras.layers.Conv2D(filters=32, kernel_size=(3,3), strides=(1,1),\n",
    "                             padding=\"same\", kernel_initializer=\"glorot_uniform\"),\n",
    "      tf.keras.layers.MaxPooling2D(pool_size=(2,2), strides=(1,1),\n",
    "                                   padding=\"valid\"), \n",
    "      tf.keras.layers.Activation(tf.nn.relu),\n",
    "      tf.keras.layers.Conv2D(filters=64, kernel_size=(5,5), strides=2,\n",
    "                            padding=\"same\", kernel_initializer=\"glorot_uniform\"),\n",
    "      tf.keras.layers.MaxPooling2D(pool_size=(2,2), strides=(1,1),\n",
    "                                   padding=\"valid\"), \n",
    "      tf.keras.layers.Activation(tf.nn.relu),\n",
    "      tf.keras.layers.Flatten(),\n",
    "      tf.keras.layers.Dropout(0.5),\n",
    "      tf.keras.layers.Dense(10, kernel_initializer=\"glorot_uniform\",\n",
    "                            activation=\"softmax\")\n",
    "    ]\n",
    ")\n",
    "\n",
    "optimizer = keras.optimizers.Adamax(learning_rate=0.001)\n",
    "model.compile(optimizer=optimizer, loss=\"sparse_categorical_crossentropy\",\n",
    "              metrics=[\"accuracy\"])"
   ]
  },
  {
   "cell_type": "code",
   "execution_count": 49,
   "metadata": {
    "colab": {
     "base_uri": "https://localhost:8080/"
    },
    "id": "Y3w6jsb1qy0D",
    "outputId": "53169094-911f-41bf-e251-e119ed9eb0e7"
   },
   "outputs": [
    {
     "name": "stdout",
     "output_type": "stream",
     "text": [
      "Epoch 1/15\n",
      "1875/1875 - 4s - loss: 0.1782 - accuracy: 0.9453 - val_loss: 0.0568 - val_accuracy: 0.9826\n",
      "Epoch 2/15\n",
      "1875/1875 - 3s - loss: 0.0684 - accuracy: 0.9787 - val_loss: 0.0451 - val_accuracy: 0.9845\n",
      "Epoch 3/15\n",
      "1875/1875 - 3s - loss: 0.0515 - accuracy: 0.9841 - val_loss: 0.0354 - val_accuracy: 0.9887\n",
      "Epoch 4/15\n",
      "1875/1875 - 3s - loss: 0.0435 - accuracy: 0.9865 - val_loss: 0.0315 - val_accuracy: 0.9889\n",
      "Epoch 5/15\n",
      "1875/1875 - 3s - loss: 0.0370 - accuracy: 0.9884 - val_loss: 0.0282 - val_accuracy: 0.9905\n",
      "Epoch 6/15\n",
      "1875/1875 - 3s - loss: 0.0332 - accuracy: 0.9899 - val_loss: 0.0264 - val_accuracy: 0.9915\n",
      "Epoch 7/15\n",
      "1875/1875 - 3s - loss: 0.0301 - accuracy: 0.9906 - val_loss: 0.0280 - val_accuracy: 0.9909\n",
      "Epoch 8/15\n",
      "1875/1875 - 3s - loss: 0.0276 - accuracy: 0.9915 - val_loss: 0.0242 - val_accuracy: 0.9913\n",
      "Epoch 9/15\n",
      "1875/1875 - 3s - loss: 0.0254 - accuracy: 0.9922 - val_loss: 0.0227 - val_accuracy: 0.9922\n",
      "Epoch 10/15\n",
      "1875/1875 - 3s - loss: 0.0230 - accuracy: 0.9926 - val_loss: 0.0225 - val_accuracy: 0.9923\n",
      "Epoch 11/15\n",
      "1875/1875 - 3s - loss: 0.0218 - accuracy: 0.9931 - val_loss: 0.0236 - val_accuracy: 0.9917\n",
      "Epoch 12/15\n",
      "1875/1875 - 3s - loss: 0.0211 - accuracy: 0.9932 - val_loss: 0.0230 - val_accuracy: 0.9923\n",
      "Epoch 13/15\n",
      "1875/1875 - 3s - loss: 0.0189 - accuracy: 0.9943 - val_loss: 0.0231 - val_accuracy: 0.9927\n",
      "Epoch 14/15\n",
      "1875/1875 - 3s - loss: 0.0184 - accuracy: 0.9942 - val_loss: 0.0212 - val_accuracy: 0.9925\n",
      "Epoch 15/15\n",
      "1875/1875 - 3s - loss: 0.0172 - accuracy: 0.9949 - val_loss: 0.0211 - val_accuracy: 0.9930\n"
     ]
    }
   ],
   "source": [
    "history = model.fit(X_train, y_train, epochs=15, validation_data=(X_test, y_test),\n",
    "                    verbose=2)"
   ]
  },
  {
   "cell_type": "code",
   "execution_count": 50,
   "metadata": {
    "colab": {
     "base_uri": "https://localhost:8080/"
    },
    "id": "EPqVHuqwOjoW",
    "outputId": "23a89058-0478-4019-a6b1-01410b1b155f"
   },
   "outputs": [
    {
     "name": "stdout",
     "output_type": "stream",
     "text": [
      "Model: \"sequential_3\"\n",
      "_________________________________________________________________\n",
      "Layer (type)                 Output Shape              Param #   \n",
      "=================================================================\n",
      "conv2d_6 (Conv2D)            (None, 28, 28, 32)        320       \n",
      "_________________________________________________________________\n",
      "max_pooling2d_6 (MaxPooling2 (None, 27, 27, 32)        0         \n",
      "_________________________________________________________________\n",
      "activation_6 (Activation)    (None, 27, 27, 32)        0         \n",
      "_________________________________________________________________\n",
      "conv2d_7 (Conv2D)            (None, 14, 14, 64)        51264     \n",
      "_________________________________________________________________\n",
      "max_pooling2d_7 (MaxPooling2 (None, 13, 13, 64)        0         \n",
      "_________________________________________________________________\n",
      "activation_7 (Activation)    (None, 13, 13, 64)        0         \n",
      "_________________________________________________________________\n",
      "flatten_3 (Flatten)          (None, 10816)             0         \n",
      "_________________________________________________________________\n",
      "dropout_3 (Dropout)          (None, 10816)             0         \n",
      "_________________________________________________________________\n",
      "dense_3 (Dense)              (None, 10)                108170    \n",
      "=================================================================\n",
      "Total params: 159,754\n",
      "Trainable params: 159,754\n",
      "Non-trainable params: 0\n",
      "_________________________________________________________________\n"
     ]
    }
   ],
   "source": [
    "model.summary()"
   ]
  },
  {
   "cell_type": "code",
   "execution_count": 51,
   "metadata": {
    "colab": {
     "base_uri": "https://localhost:8080/"
    },
    "id": "hexdWIKxzjsS",
    "outputId": "b9caabb3-fb7d-4579-c6d2-a61ed277c57a"
   },
   "outputs": [
    {
     "name": "stdout",
     "output_type": "stream",
     "text": [
      "dict_keys(['loss', 'accuracy', 'val_loss', 'val_accuracy'])\n"
     ]
    }
   ],
   "source": [
    "print(history.history.keys())"
   ]
  },
  {
   "cell_type": "code",
   "execution_count": 52,
   "metadata": {
    "colab": {
     "base_uri": "https://localhost:8080/",
     "height": 295
    },
    "id": "e5wuQfSvSPxT",
    "outputId": "bf32aad9-9c33-4f5e-9a09-e0630968ea64"
   },
   "outputs": [
    {
     "data": {
      "image/png": "[encoded data removed]",
      "text/plain": [
       "<Figure size 432x288 with 1 Axes>"
      ]
     },
     "metadata": {
      "needs_background": "light",
      "tags": []
     },
     "output_type": "display_data"
    }
   ],
   "source": [
    "plt.plot(history.history['loss'], color=\"green\")\n",
    "plt.plot(history.history['val_loss'], color=\"red\")\n",
    "plt.title('model loss')\n",
    "plt.ylabel('loss')\n",
    "plt.xlabel('epoch')\n",
    "plt.legend(['train', 'val'], loc='upper left')\n",
    "plt.show()"
   ]
  },
  {
   "cell_type": "markdown",
   "metadata": {
    "id": "drp0swv1S7ig"
   },
   "source": [
    "As we can see, training further yielded no results."
   ]
  },
  {
   "cell_type": "code",
   "execution_count": null,
   "metadata": {
    "id": "f36DAZbfUyv3"
   },
   "outputs": [],
   "source": []
  }
 ],
 "metadata": {
  "accelerator": "GPU",
  "colab": {
   "name": "MNIST.ipynb",
   "provenance": [],
   "toc_visible": true
  },
  "kernelspec": {
   "display_name": "Python 3",
   "language": "python",
   "name": "python3"
  },
  "language_info": {
   "codemirror_mode": {
    "name": "ipython",
    "version": 3
   },
   "file_extension": ".py",
   "mimetype": "text/x-python",
   "name": "python",
   "nbconvert_exporter": "python",
   "pygments_lexer": "ipython3",
   "version": "3.7.3"
  }
 },
 "nbformat": 4,
 "nbformat_minor": 1
}

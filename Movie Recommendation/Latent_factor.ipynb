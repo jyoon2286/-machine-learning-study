{
  "nbformat": 4,
  "nbformat_minor": 0,
  "metadata": {
    "colab": {
      "name": "MSML604_Latent_factor.ipynb",
      "provenance": []
    },
    "kernelspec": {
      "name": "python3",
      "display_name": "Python 3"
    }
  },
  "cells": [
    {
      "cell_type": "markdown",
      "metadata": {
        "id": "eE7lP47rHzj0"
      },
      "source": [
        "### Latent factor "
      ]
    },
    {
      "cell_type": "markdown",
      "metadata": {
        "id": "POQANWkOVjRZ"
      },
      "source": [
        "### Reading dataset & pre-processing - same process as the Item-based CF"
      ]
    },
    {
      "cell_type": "code",
      "metadata": {
        "id": "KwkTEPxsHxGm"
      },
      "source": [
        "import pandas as pd\n",
        "import numpy as np"
      ],
      "execution_count": null,
      "outputs": []
    },
    {
      "cell_type": "code",
      "metadata": {
        "colab": {
          "resources": {
            "http://localhost:8080/nbextensions/google.colab/files.js": {
              "data": "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",
              "ok": true,
              "headers": [
                [
                  "content-type",
                  "application/javascript"
                ]
              ],
              "status": 200,
              "status_text": ""
            }
          },
          "base_uri": "https://localhost:8080/",
          "height": 72
        },
        "id": "PhjM6ubXIECL",
        "outputId": "ef733bbd-05e4-4f42-b982-c1e0121227f4"
      },
      "source": [
        "from google.colab import files\n",
        "uploaded = files.upload()"
      ],
      "execution_count": null,
      "outputs": [
        {
          "output_type": "display_data",
          "data": {
            "text/html": [
              "\n",
              "     <input type=\"file\" id=\"files-6aaa1084-4f9b-4a08-90c0-5b6865342a8d\" name=\"files[]\" multiple disabled\n",
              "        style=\"border:none\" />\n",
              "     <output id=\"result-6aaa1084-4f9b-4a08-90c0-5b6865342a8d\">\n",
              "      Upload widget is only available when the cell has been executed in the\n",
              "      current browser session. Please rerun this cell to enable.\n",
              "      </output>\n",
              "      <script src=\"/nbextensions/google.colab/files.js\"></script> "
            ],
            "text/plain": [
              "<IPython.core.display.HTML object>"
            ]
          },
          "metadata": {
            "tags": []
          }
        },
        {
          "output_type": "stream",
          "text": [
            "Saving movies.csv to movies.csv\n",
            "Saving ratings.csv to ratings.csv\n"
          ],
          "name": "stdout"
        }
      ]
    },
    {
      "cell_type": "code",
      "metadata": {
        "id": "Dil7ijl-IEkS"
      },
      "source": [
        "movies = pd.read_csv('movies.csv')\n",
        "ratings = pd.read_csv('ratings.csv')\n",
        "ratings = ratings[['userId', 'movieId', 'rating']]\n",
        "ratings_mx = ratings.pivot_table('rating', index='userId', columns='movieId')\n",
        "\n",
        "rating_movies = pd.merge(ratings, movies, on='movieId')\n",
        "ratings_mx = rating_movies.pivot_table('rating', index='userId', columns='title')"
      ],
      "execution_count": null,
      "outputs": []
    },
    {
      "cell_type": "markdown",
      "metadata": {
        "id": "yDCZONhjWFi-"
      },
      "source": [
        "### Create matrix decomposition function based on gradient descent"
      ]
    },
    {
      "cell_type": "markdown",
      "metadata": {
        "id": "iDpXo6vmXgZG"
      },
      "source": [
        "![update p and q.png](data:image/png;base64,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)"
      ]
    },
    {
      "cell_type": "code",
      "metadata": {
        "id": "TnzZf6wXH66-"
      },
      "source": [
        "def mx_factorization(plot_rmse, plot_iter,R, K, iters=200, alpha_rate=0.01, r_lambda = 0.01):\n",
        "    numUsers, numItems = R.shape\n",
        "    # Specify the size of the P and Q matrices and initialize the random values with a normal distribution\n",
        "    np.random.seed(1)\n",
        "    P = np.random.normal(scale=1./K, size=(numUsers, K))\n",
        "    Q = np.random.normal(scale=1./K, size=(numItems, K))\n",
        "\n",
        "    break_count = 0\n",
        "       \n",
        "    # Save row position, column position, and value with R> 0 in a nonZeros list object \n",
        "    nonZeros = [ (i, j, R[i,j]) for i in range(numUsers) for j in range(numItems) if R[i,j] > 0 ]\n",
        "   \n",
        "    # Updating P and Q using Stochastic Gradient Descent (SGD) \n",
        "    for iter in range(iters):\n",
        "        for i, j, r in nonZeros:\n",
        "            # Find the error value that is the difference between the actual value and the predicted value\n",
        "            eij = r - np.dot(P[i, :], Q[j, :].T)\n",
        "            # Applying updated values to the regularization\n",
        "            P[i,:] = P[i,:] + alpha_rate*(eij * Q[j, :] - r_lambda*P[i,:])\n",
        "            Q[j,:] = Q[j,:] + alpha_rate*(eij * P[i, :] - r_lambda*Q[j,:])\n",
        "       \n",
        "        rmse = get_rmse(R, P, Q, nonZeros)\n",
        "        plot_rmse.append(rmse)\n",
        "        plot_iter.append(iter)\n",
        "        if (iter % 10) == 0 :\n",
        "            print(\"The number of iterations for updating p and q : \", iter, \" rmse : \", rmse)\n",
        "            \n",
        "    return P, Q"
      ],
      "execution_count": null,
      "outputs": []
    },
    {
      "cell_type": "code",
      "metadata": {
        "id": "ng7W3frqJiUK"
      },
      "source": [
        "from sklearn.metrics import mean_squared_error\n",
        "\n",
        "def get_rmse(R, P, Q, nonZeros):\n",
        "    error = 0\n",
        "    # Computing predicted R matrix using dense matrices P and Q'\n",
        "    full_p_mx = np.dot(P, Q.T)\n",
        "    \n",
        "    # Extracting the non-null value as index from R vector and compute R matrix and predicted R matrix\n",
        "    col_nonZero_indx = [nonZero[0] for nonZero in nonZeros]\n",
        "    row_nonZero_indx = [nonZero[1] for nonZero in nonZeros]\n",
        "    R_nonZeros = R[col_nonZero_indx, row_nonZero_indx]\n",
        "    full_p_mx_nonZeros = full_p_mx[col_nonZero_indx, row_nonZero_indx]\n",
        "    mse = mean_squared_error(R_nonZeros, full_p_mx_nonZeros)\n",
        "    rmse = np.sqrt(mse)\n",
        "    \n",
        "    return rmse"
      ],
      "execution_count": null,
      "outputs": []
    },
    {
      "cell_type": "code",
      "metadata": {
        "colab": {
          "base_uri": "https://localhost:8080/"
        },
        "id": "a0a_iJoSJYi2",
        "outputId": "acb20e85-0070-4ccc-81bc-62c70b58321e"
      },
      "source": [
        "#creating empty list to append the iteration value and the RMSE value for the visualization\n",
        "plot_rmse = []\n",
        "plot_iter = []\n",
        "# Implementing SGD using the alpha values as 0.01 and the lambda value as 0.01 as well\n",
        "P, Q = mx_factorization( plot_rmse,plot_iter,ratings_mx.values, K=50, iters=200, alpha_rate=0.01, r_lambda = 0.01)\n",
        "pred_mx = np.dot(P, Q.T)"
      ],
      "execution_count": null,
      "outputs": [
        {
          "output_type": "stream",
          "text": [
            "The number of iterations for updating p and q :  0  rmse :  2.9023619751336867\n",
            "The number of iterations for updating p and q :  10  rmse :  0.7335768591017927\n",
            "The number of iterations for updating p and q :  20  rmse :  0.5115539026853442\n",
            "The number of iterations for updating p and q :  30  rmse :  0.37261628282537446\n",
            "The number of iterations for updating p and q :  40  rmse :  0.2960818299181014\n",
            "The number of iterations for updating p and q :  50  rmse :  0.2520353192341642\n",
            "The number of iterations for updating p and q :  60  rmse :  0.22487503275269854\n",
            "The number of iterations for updating p and q :  70  rmse :  0.20685455302331543\n",
            "The number of iterations for updating p and q :  80  rmse :  0.19413418783028685\n",
            "The number of iterations for updating p and q :  90  rmse :  0.18470082002720403\n",
            "The number of iterations for updating p and q :  100  rmse :  0.17742927527209104\n",
            "The number of iterations for updating p and q :  110  rmse :  0.1716522696470749\n",
            "The number of iterations for updating p and q :  120  rmse :  0.1669518194687172\n",
            "The number of iterations for updating p and q :  130  rmse :  0.1630529219199754\n",
            "The number of iterations for updating p and q :  140  rmse :  0.15976691929679646\n",
            "The number of iterations for updating p and q :  150  rmse :  0.1569598699945732\n",
            "The number of iterations for updating p and q :  160  rmse :  0.1545339818671543\n",
            "The number of iterations for updating p and q :  170  rmse :  0.15241618551077643\n",
            "The number of iterations for updating p and q :  180  rmse :  0.1505508073962831\n",
            "The number of iterations for updating p and q :  190  rmse :  0.1488947091323209\n"
          ],
          "name": "stdout"
        }
      ]
    },
    {
      "cell_type": "code",
      "metadata": {
        "colab": {
          "base_uri": "https://localhost:8080/",
          "height": 392
        },
        "id": "EQc5lgH2JY_f",
        "outputId": "b5ed0dba-617e-44c0-ce0e-f2240c876394"
      },
      "source": [
        "ratings_pred_mx = pd.DataFrame(data=pred_matrix, index= ratings_matrix.index,\n",
        "                                   columns = ratings_mx.columns)\n",
        "\n",
        "ratings_pred_mx.head(3)"
      ],
      "execution_count": null,
      "outputs": [
        {
          "output_type": "execute_result",
          "data": {
            "text/html": [
              "<div>\n",
              "<style scoped>\n",
              "    .dataframe tbody tr th:only-of-type {\n",
              "        vertical-align: middle;\n",
              "    }\n",
              "\n",
              "    .dataframe tbody tr th {\n",
              "        vertical-align: top;\n",
              "    }\n",
              "\n",
              "    .dataframe thead th {\n",
              "        text-align: right;\n",
              "    }\n",
              "</style>\n",
              "<table border=\"1\" class=\"dataframe\">\n",
              "  <thead>\n",
              "    <tr style=\"text-align: right;\">\n",
              "      <th>title</th>\n",
              "      <th>'71 (2014)</th>\n",
              "      <th>'Hellboy': The Seeds of Creation (2004)</th>\n",
              "      <th>'Round Midnight (1986)</th>\n",
              "      <th>'Salem's Lot (2004)</th>\n",
              "      <th>'Til There Was You (1997)</th>\n",
              "      <th>'Tis the Season for Love (2015)</th>\n",
              "      <th>'burbs, The (1989)</th>\n",
              "      <th>'night Mother (1986)</th>\n",
              "      <th>(500) Days of Summer (2009)</th>\n",
              "      <th>*batteries not included (1987)</th>\n",
              "      <th>...All the Marbles (1981)</th>\n",
              "      <th>...And Justice for All (1979)</th>\n",
              "      <th>00 Schneider - Jagd auf Nihil Baxter (1994)</th>\n",
              "      <th>1-900 (06) (1994)</th>\n",
              "      <th>10 (1979)</th>\n",
              "      <th>10 Cent Pistol (2015)</th>\n",
              "      <th>10 Cloverfield Lane (2016)</th>\n",
              "      <th>10 Items or Less (2006)</th>\n",
              "      <th>10 Things I Hate About You (1999)</th>\n",
              "      <th>10 Years (2011)</th>\n",
              "      <th>10,000 BC (2008)</th>\n",
              "      <th>100 Girls (2000)</th>\n",
              "      <th>100 Streets (2016)</th>\n",
              "      <th>101 Dalmatians (1996)</th>\n",
              "      <th>101 Dalmatians (One Hundred and One Dalmatians) (1961)</th>\n",
              "      <th>101 Dalmatians II: Patch's London Adventure (2003)</th>\n",
              "      <th>101 Reykjavik (101 Reykjavík) (2000)</th>\n",
              "      <th>102 Dalmatians (2000)</th>\n",
              "      <th>10th &amp; Wolf (2006)</th>\n",
              "      <th>10th Kingdom, The (2000)</th>\n",
              "      <th>10th Victim, The (La decima vittima) (1965)</th>\n",
              "      <th>11'09\"01 - September 11 (2002)</th>\n",
              "      <th>11:14 (2003)</th>\n",
              "      <th>11th Hour, The (2007)</th>\n",
              "      <th>12 Angry Men (1957)</th>\n",
              "      <th>12 Angry Men (1997)</th>\n",
              "      <th>12 Chairs (1971)</th>\n",
              "      <th>12 Chairs (1976)</th>\n",
              "      <th>12 Rounds (2009)</th>\n",
              "      <th>12 Years a Slave (2013)</th>\n",
              "      <th>...</th>\n",
              "      <th>Zathura (2005)</th>\n",
              "      <th>Zatoichi and the Chest of Gold (Zatôichi senryô-kubi) (Zatôichi 6) (1964)</th>\n",
              "      <th>Zazie dans le métro (1960)</th>\n",
              "      <th>Zebraman (2004)</th>\n",
              "      <th>Zed &amp; Two Noughts, A (1985)</th>\n",
              "      <th>Zeitgeist: Addendum (2008)</th>\n",
              "      <th>Zeitgeist: Moving Forward (2011)</th>\n",
              "      <th>Zeitgeist: The Movie (2007)</th>\n",
              "      <th>Zelary (2003)</th>\n",
              "      <th>Zelig (1983)</th>\n",
              "      <th>Zero Dark Thirty (2012)</th>\n",
              "      <th>Zero Effect (1998)</th>\n",
              "      <th>Zero Theorem, The (2013)</th>\n",
              "      <th>Zero de conduite (Zero for Conduct) (Zéro de conduite: Jeunes diables au collège) (1933)</th>\n",
              "      <th>Zeus and Roxanne (1997)</th>\n",
              "      <th>Zipper (2015)</th>\n",
              "      <th>Zodiac (2007)</th>\n",
              "      <th>Zombeavers (2014)</th>\n",
              "      <th>Zombie (a.k.a. Zombie 2: The Dead Are Among Us) (Zombi 2) (1979)</th>\n",
              "      <th>Zombie Strippers! (2008)</th>\n",
              "      <th>Zombieland (2009)</th>\n",
              "      <th>Zone 39 (1997)</th>\n",
              "      <th>Zone, The (La Zona) (2007)</th>\n",
              "      <th>Zookeeper (2011)</th>\n",
              "      <th>Zoolander (2001)</th>\n",
              "      <th>Zoolander 2 (2016)</th>\n",
              "      <th>Zoom (2006)</th>\n",
              "      <th>Zoom (2015)</th>\n",
              "      <th>Zootopia (2016)</th>\n",
              "      <th>Zulu (1964)</th>\n",
              "      <th>Zulu (2013)</th>\n",
              "      <th>[REC] (2007)</th>\n",
              "      <th>[REC]² (2009)</th>\n",
              "      <th>[REC]³ 3 Génesis (2012)</th>\n",
              "      <th>anohana: The Flower We Saw That Day - The Movie (2013)</th>\n",
              "      <th>eXistenZ (1999)</th>\n",
              "      <th>xXx (2002)</th>\n",
              "      <th>xXx: State of the Union (2005)</th>\n",
              "      <th>¡Three Amigos! (1986)</th>\n",
              "      <th>À nous la liberté (Freedom for Us) (1931)</th>\n",
              "    </tr>\n",
              "    <tr>\n",
              "      <th>userId</th>\n",
              "      <th></th>\n",
              "      <th></th>\n",
              "      <th></th>\n",
              "      <th></th>\n",
              "      <th></th>\n",
              "      <th></th>\n",
              "      <th></th>\n",
              "      <th></th>\n",
              "      <th></th>\n",
              "      <th></th>\n",
              "      <th></th>\n",
              "      <th></th>\n",
              "      <th></th>\n",
              "      <th></th>\n",
              "      <th></th>\n",
              "      <th></th>\n",
              "      <th></th>\n",
              "      <th></th>\n",
              "      <th></th>\n",
              "      <th></th>\n",
              "      <th></th>\n",
              "      <th></th>\n",
              "      <th></th>\n",
              "      <th></th>\n",
              "      <th></th>\n",
              "      <th></th>\n",
              "      <th></th>\n",
              "      <th></th>\n",
              "      <th></th>\n",
              "      <th></th>\n",
              "      <th></th>\n",
              "      <th></th>\n",
              "      <th></th>\n",
              "      <th></th>\n",
              "      <th></th>\n",
              "      <th></th>\n",
              "      <th></th>\n",
              "      <th></th>\n",
              "      <th></th>\n",
              "      <th></th>\n",
              "      <th></th>\n",
              "      <th></th>\n",
              "      <th></th>\n",
              "      <th></th>\n",
              "      <th></th>\n",
              "      <th></th>\n",
              "      <th></th>\n",
              "      <th></th>\n",
              "      <th></th>\n",
              "      <th></th>\n",
              "      <th></th>\n",
              "      <th></th>\n",
              "      <th></th>\n",
              "      <th></th>\n",
              "      <th></th>\n",
              "      <th></th>\n",
              "      <th></th>\n",
              "      <th></th>\n",
              "      <th></th>\n",
              "      <th></th>\n",
              "      <th></th>\n",
              "      <th></th>\n",
              "      <th></th>\n",
              "      <th></th>\n",
              "      <th></th>\n",
              "      <th></th>\n",
              "      <th></th>\n",
              "      <th></th>\n",
              "      <th></th>\n",
              "      <th></th>\n",
              "      <th></th>\n",
              "      <th></th>\n",
              "      <th></th>\n",
              "      <th></th>\n",
              "      <th></th>\n",
              "      <th></th>\n",
              "      <th></th>\n",
              "      <th></th>\n",
              "      <th></th>\n",
              "      <th></th>\n",
              "      <th></th>\n",
              "    </tr>\n",
              "  </thead>\n",
              "  <tbody>\n",
              "    <tr>\n",
              "      <th>1</th>\n",
              "      <td>3.055084</td>\n",
              "      <td>4.092018</td>\n",
              "      <td>3.564130</td>\n",
              "      <td>4.502167</td>\n",
              "      <td>3.981215</td>\n",
              "      <td>1.271694</td>\n",
              "      <td>3.603274</td>\n",
              "      <td>2.333266</td>\n",
              "      <td>5.091749</td>\n",
              "      <td>3.972454</td>\n",
              "      <td>1.623927</td>\n",
              "      <td>3.910138</td>\n",
              "      <td>4.775403</td>\n",
              "      <td>3.837260</td>\n",
              "      <td>3.875488</td>\n",
              "      <td>1.550801</td>\n",
              "      <td>2.929129</td>\n",
              "      <td>2.680321</td>\n",
              "      <td>3.225626</td>\n",
              "      <td>3.251925</td>\n",
              "      <td>2.778350</td>\n",
              "      <td>3.331543</td>\n",
              "      <td>2.391855</td>\n",
              "      <td>3.199047</td>\n",
              "      <td>4.148949</td>\n",
              "      <td>1.852731</td>\n",
              "      <td>3.269642</td>\n",
              "      <td>3.448719</td>\n",
              "      <td>4.458060</td>\n",
              "      <td>3.719499</td>\n",
              "      <td>3.231820</td>\n",
              "      <td>3.521511</td>\n",
              "      <td>3.866924</td>\n",
              "      <td>3.961768</td>\n",
              "      <td>4.957933</td>\n",
              "      <td>4.075665</td>\n",
              "      <td>3.509040</td>\n",
              "      <td>3.923190</td>\n",
              "      <td>3.210152</td>\n",
              "      <td>4.374122</td>\n",
              "      <td>...</td>\n",
              "      <td>3.546313</td>\n",
              "      <td>3.207635</td>\n",
              "      <td>2.082641</td>\n",
              "      <td>3.302390</td>\n",
              "      <td>1.821505</td>\n",
              "      <td>3.814172</td>\n",
              "      <td>4.227119</td>\n",
              "      <td>3.699006</td>\n",
              "      <td>3.009256</td>\n",
              "      <td>4.605246</td>\n",
              "      <td>4.712096</td>\n",
              "      <td>4.284418</td>\n",
              "      <td>3.095067</td>\n",
              "      <td>3.214574</td>\n",
              "      <td>0.990303</td>\n",
              "      <td>1.805794</td>\n",
              "      <td>4.588016</td>\n",
              "      <td>2.295002</td>\n",
              "      <td>4.173353</td>\n",
              "      <td>0.327724</td>\n",
              "      <td>4.817989</td>\n",
              "      <td>1.902907</td>\n",
              "      <td>3.557027</td>\n",
              "      <td>2.881273</td>\n",
              "      <td>3.766529</td>\n",
              "      <td>2.703354</td>\n",
              "      <td>2.395317</td>\n",
              "      <td>2.373198</td>\n",
              "      <td>4.749076</td>\n",
              "      <td>4.281203</td>\n",
              "      <td>1.402608</td>\n",
              "      <td>4.208382</td>\n",
              "      <td>3.705957</td>\n",
              "      <td>2.720514</td>\n",
              "      <td>2.787331</td>\n",
              "      <td>3.475076</td>\n",
              "      <td>3.253458</td>\n",
              "      <td>2.161087</td>\n",
              "      <td>4.010495</td>\n",
              "      <td>0.859474</td>\n",
              "    </tr>\n",
              "    <tr>\n",
              "      <th>2</th>\n",
              "      <td>3.170119</td>\n",
              "      <td>3.657992</td>\n",
              "      <td>3.308707</td>\n",
              "      <td>4.166521</td>\n",
              "      <td>4.311890</td>\n",
              "      <td>1.275469</td>\n",
              "      <td>4.237972</td>\n",
              "      <td>1.900366</td>\n",
              "      <td>3.392859</td>\n",
              "      <td>3.647421</td>\n",
              "      <td>1.489588</td>\n",
              "      <td>3.617857</td>\n",
              "      <td>3.785199</td>\n",
              "      <td>3.168660</td>\n",
              "      <td>3.537318</td>\n",
              "      <td>0.995625</td>\n",
              "      <td>3.969397</td>\n",
              "      <td>2.173005</td>\n",
              "      <td>3.464055</td>\n",
              "      <td>2.475622</td>\n",
              "      <td>3.413724</td>\n",
              "      <td>2.665215</td>\n",
              "      <td>1.828840</td>\n",
              "      <td>3.322109</td>\n",
              "      <td>2.654698</td>\n",
              "      <td>1.469953</td>\n",
              "      <td>3.035060</td>\n",
              "      <td>3.163879</td>\n",
              "      <td>4.244324</td>\n",
              "      <td>2.727754</td>\n",
              "      <td>2.879571</td>\n",
              "      <td>3.124665</td>\n",
              "      <td>3.773794</td>\n",
              "      <td>3.774747</td>\n",
              "      <td>3.175855</td>\n",
              "      <td>3.458016</td>\n",
              "      <td>2.923885</td>\n",
              "      <td>3.303497</td>\n",
              "      <td>2.806202</td>\n",
              "      <td>3.504966</td>\n",
              "      <td>...</td>\n",
              "      <td>3.289954</td>\n",
              "      <td>2.677164</td>\n",
              "      <td>2.087793</td>\n",
              "      <td>3.388524</td>\n",
              "      <td>1.783418</td>\n",
              "      <td>3.267824</td>\n",
              "      <td>3.661620</td>\n",
              "      <td>3.131275</td>\n",
              "      <td>2.475330</td>\n",
              "      <td>3.916692</td>\n",
              "      <td>4.197842</td>\n",
              "      <td>3.987094</td>\n",
              "      <td>3.134310</td>\n",
              "      <td>2.827407</td>\n",
              "      <td>0.829738</td>\n",
              "      <td>1.380996</td>\n",
              "      <td>3.974255</td>\n",
              "      <td>2.685338</td>\n",
              "      <td>3.902178</td>\n",
              "      <td>0.293003</td>\n",
              "      <td>3.064224</td>\n",
              "      <td>1.566051</td>\n",
              "      <td>3.095034</td>\n",
              "      <td>2.769578</td>\n",
              "      <td>3.956414</td>\n",
              "      <td>2.493763</td>\n",
              "      <td>2.236924</td>\n",
              "      <td>1.775576</td>\n",
              "      <td>3.909241</td>\n",
              "      <td>3.799859</td>\n",
              "      <td>0.973811</td>\n",
              "      <td>3.528264</td>\n",
              "      <td>3.361532</td>\n",
              "      <td>2.672535</td>\n",
              "      <td>2.404456</td>\n",
              "      <td>4.232789</td>\n",
              "      <td>2.911602</td>\n",
              "      <td>1.634576</td>\n",
              "      <td>4.135735</td>\n",
              "      <td>0.725684</td>\n",
              "    </tr>\n",
              "    <tr>\n",
              "      <th>3</th>\n",
              "      <td>2.307073</td>\n",
              "      <td>1.658853</td>\n",
              "      <td>1.443538</td>\n",
              "      <td>2.208859</td>\n",
              "      <td>2.229486</td>\n",
              "      <td>0.780760</td>\n",
              "      <td>1.997043</td>\n",
              "      <td>0.924908</td>\n",
              "      <td>2.970700</td>\n",
              "      <td>2.551446</td>\n",
              "      <td>0.881095</td>\n",
              "      <td>1.813452</td>\n",
              "      <td>2.687841</td>\n",
              "      <td>1.908641</td>\n",
              "      <td>2.228256</td>\n",
              "      <td>0.695248</td>\n",
              "      <td>1.146590</td>\n",
              "      <td>1.536595</td>\n",
              "      <td>0.809632</td>\n",
              "      <td>1.561342</td>\n",
              "      <td>1.820714</td>\n",
              "      <td>1.097596</td>\n",
              "      <td>1.216409</td>\n",
              "      <td>1.347617</td>\n",
              "      <td>1.760926</td>\n",
              "      <td>0.622817</td>\n",
              "      <td>1.786144</td>\n",
              "      <td>1.934932</td>\n",
              "      <td>2.332054</td>\n",
              "      <td>2.291151</td>\n",
              "      <td>1.983643</td>\n",
              "      <td>1.785523</td>\n",
              "      <td>2.265654</td>\n",
              "      <td>2.055809</td>\n",
              "      <td>2.459728</td>\n",
              "      <td>2.092599</td>\n",
              "      <td>2.512530</td>\n",
              "      <td>2.928443</td>\n",
              "      <td>1.777471</td>\n",
              "      <td>1.808872</td>\n",
              "      <td>...</td>\n",
              "      <td>1.779506</td>\n",
              "      <td>2.222377</td>\n",
              "      <td>1.448616</td>\n",
              "      <td>2.340729</td>\n",
              "      <td>1.658322</td>\n",
              "      <td>2.231055</td>\n",
              "      <td>2.634708</td>\n",
              "      <td>2.235721</td>\n",
              "      <td>1.340105</td>\n",
              "      <td>2.322287</td>\n",
              "      <td>2.483354</td>\n",
              "      <td>2.199769</td>\n",
              "      <td>2.313019</td>\n",
              "      <td>1.807883</td>\n",
              "      <td>0.617402</td>\n",
              "      <td>0.906815</td>\n",
              "      <td>3.362981</td>\n",
              "      <td>2.024704</td>\n",
              "      <td>2.460702</td>\n",
              "      <td>0.128483</td>\n",
              "      <td>3.936125</td>\n",
              "      <td>1.135435</td>\n",
              "      <td>1.912071</td>\n",
              "      <td>2.419887</td>\n",
              "      <td>3.416503</td>\n",
              "      <td>1.601437</td>\n",
              "      <td>1.177825</td>\n",
              "      <td>1.159584</td>\n",
              "      <td>2.617399</td>\n",
              "      <td>2.675379</td>\n",
              "      <td>0.520354</td>\n",
              "      <td>1.709494</td>\n",
              "      <td>2.281596</td>\n",
              "      <td>1.782833</td>\n",
              "      <td>1.635173</td>\n",
              "      <td>1.323276</td>\n",
              "      <td>2.887580</td>\n",
              "      <td>1.042618</td>\n",
              "      <td>2.293890</td>\n",
              "      <td>0.396941</td>\n",
              "    </tr>\n",
              "  </tbody>\n",
              "</table>\n",
              "<p>3 rows × 9719 columns</p>\n",
              "</div>"
            ],
            "text/plain": [
              "title   '71 (2014)  ...  À nous la liberté (Freedom for Us) (1931)\n",
              "userId              ...                                           \n",
              "1         3.055084  ...                                   0.859474\n",
              "2         3.170119  ...                                   0.725684\n",
              "3         2.307073  ...                                   0.396941\n",
              "\n",
              "[3 rows x 9719 columns]"
            ]
          },
          "metadata": {
            "tags": []
          },
          "execution_count": 28
        }
      ]
    },
    {
      "cell_type": "markdown",
      "metadata": {
        "id": "0TSk-FxCXSE_"
      },
      "source": [
        "Ploting the RMSE values"
      ]
    },
    {
      "cell_type": "code",
      "metadata": {
        "colab": {
          "base_uri": "https://localhost:8080/",
          "height": 295
        },
        "id": "bJcCWuqMKE2y",
        "outputId": "76ef3b40-beeb-4744-d158-0c2d0990fd7a"
      },
      "source": [
        "from matplotlib import pyplot as plt \n",
        "plt.plot(plot_iter,plot_rmse, color=\"red\")\n",
        "plt.title('Gradient descent iteration - RMSE')\n",
        "plt.ylabel('RMSE')\n",
        "plt.xlabel('Iteration')\n",
        "plt.legend(['RMSE', 'val'], loc='upper left')\n",
        "plt.show()"
      ],
      "execution_count": null,
      "outputs": [
        {
          "output_type": "display_data",
          "data": {
            "image/png": "[encoded data removed]",
            "text/plain": [
              "<Figure size 432x288 with 1 Axes>"
            ]
          },
          "metadata": {
            "tags": [],
            "needs_background": "light"
          }
        }
      ]
    },
    {
      "cell_type": "markdown",
      "metadata": {
        "id": "okk5HYQOXMN4"
      },
      "source": [
        "### Recommend items in order of highest predicted score"
      ]
    },
    {
      "cell_type": "markdown",
      "metadata": {
        "id": "0ea88ltZXLWC"
      },
      "source": [
        "Movie recommendation through item-based CF among movies that users have not watched"
      ]
    },
    {
      "cell_type": "code",
      "metadata": {
        "id": "c67i0qWFJp7y"
      },
      "source": [
        "def unseen_movies(ratings_mx, userId):\n",
        "    # Return Series type from the userId infromation as a parameter  \n",
        "    # The return value which is user_rating is the object value that has movie title as an index \n",
        "    user_rating = ratings_mx.loc[userId,:]\n",
        "    \n",
        "    # If user_rating is greater than 0, it is a previously watched movie. Extract target index and make list object\n",
        "    prvsly_watched = user_rating[ user_rating > 0].index.tolist()\n",
        "    \n",
        "    # Make all movie names into list objects\n",
        "    movies_list = ratings_mx.columns.tolist()\n",
        "    \n",
        "    # As a list comprehension, movies corresponding to prvsly_watched are excluded from movies_list. \n",
        "    unseen_list = [ movie for movie in movies_list if movie not in prvsly_watched]\n",
        "    \n",
        "    return unseen_list"
      ],
      "execution_count": null,
      "outputs": []
    },
    {
      "cell_type": "markdown",
      "metadata": {
        "id": "WtuCBRomXFUp"
      },
      "source": [
        "Recommends the movies with the highest predicted ratings of movies that the user did not watch from the data set rated by item-based similarity"
      ]
    },
    {
      "cell_type": "code",
      "metadata": {
        "colab": {
          "base_uri": "https://localhost:8080/",
          "height": 390
        },
        "id": "MD1NAAa5Jrea",
        "outputId": "7d0a9e3f-46f5-4856-c873-bd66c2a7e84d"
      },
      "source": [
        "def rcmd_movie_by_userid(pred_df, userId, unseen_list, top_n=10):\n",
        "    # The user ID index and the movie name column entered in unseen_list are extracted from the prediction rating DataFrame \n",
        "    # and sorted in the order of the highest prediction rating\n",
        "    rcmd_movies = pred_df.loc[userId, unseen_list].sort_values(ascending=False)[:top_n]\n",
        "    return rcmd_movies\n",
        "    \n",
        "# Extract movie names that users do not watch \n",
        "unseen_list = unseen_movies(ratings_mx, 7)\n",
        "\n",
        "# Recommeding movies using item-based CF  \n",
        "rcmd_movies = rcmd_movie_by_userid(ratings_pred_mx, 7, unseen_list, top_n=10)\n",
        "\n",
        "# Creating a dataframe for predicted score \n",
        "rcmd_movies = pd.DataFrame(data=rcmd_movies.values,index=rcmd_movies.index,columns=['pred_score'])\n",
        "rcmd_movies\n"
      ],
      "execution_count": null,
      "outputs": [
        {
          "output_type": "execute_result",
          "data": {
            "text/html": [
              "<div>\n",
              "<style scoped>\n",
              "    .dataframe tbody tr th:only-of-type {\n",
              "        vertical-align: middle;\n",
              "    }\n",
              "\n",
              "    .dataframe tbody tr th {\n",
              "        vertical-align: top;\n",
              "    }\n",
              "\n",
              "    .dataframe thead th {\n",
              "        text-align: right;\n",
              "    }\n",
              "</style>\n",
              "<table border=\"1\" class=\"dataframe\">\n",
              "  <thead>\n",
              "    <tr style=\"text-align: right;\">\n",
              "      <th></th>\n",
              "      <th>pred_score</th>\n",
              "    </tr>\n",
              "    <tr>\n",
              "      <th>title</th>\n",
              "      <th></th>\n",
              "    </tr>\n",
              "  </thead>\n",
              "  <tbody>\n",
              "    <tr>\n",
              "      <th>Twister (1996)</th>\n",
              "      <td>5.537622</td>\n",
              "    </tr>\n",
              "    <tr>\n",
              "      <th>Schindler's List (1993)</th>\n",
              "      <td>5.478221</td>\n",
              "    </tr>\n",
              "    <tr>\n",
              "      <th>Ghostbusters (a.k.a. Ghost Busters) (1984)</th>\n",
              "      <td>5.459786</td>\n",
              "    </tr>\n",
              "    <tr>\n",
              "      <th>Snatch (2000)</th>\n",
              "      <td>5.346037</td>\n",
              "    </tr>\n",
              "    <tr>\n",
              "      <th>Speed (1994)</th>\n",
              "      <td>5.285207</td>\n",
              "    </tr>\n",
              "    <tr>\n",
              "      <th>Christmas Story, A (1983)</th>\n",
              "      <td>5.262388</td>\n",
              "    </tr>\n",
              "    <tr>\n",
              "      <th>Pulp Fiction (1994)</th>\n",
              "      <td>5.179681</td>\n",
              "    </tr>\n",
              "    <tr>\n",
              "      <th>Reservoir Dogs (1992)</th>\n",
              "      <td>5.144662</td>\n",
              "    </tr>\n",
              "    <tr>\n",
              "      <th>Men in Black (a.k.a. MIB) (1997)</th>\n",
              "      <td>5.132820</td>\n",
              "    </tr>\n",
              "    <tr>\n",
              "      <th>Go (1999)</th>\n",
              "      <td>5.114149</td>\n",
              "    </tr>\n",
              "  </tbody>\n",
              "</table>\n",
              "</div>"
            ],
            "text/plain": [
              "                                            pred_score\n",
              "title                                                 \n",
              "Twister (1996)                                5.537622\n",
              "Schindler's List (1993)                       5.478221\n",
              "Ghostbusters (a.k.a. Ghost Busters) (1984)    5.459786\n",
              "Snatch (2000)                                 5.346037\n",
              "Speed (1994)                                  5.285207\n",
              "Christmas Story, A (1983)                     5.262388\n",
              "Pulp Fiction (1994)                           5.179681\n",
              "Reservoir Dogs (1992)                         5.144662\n",
              "Men in Black (a.k.a. MIB) (1997)              5.132820\n",
              "Go (1999)                                     5.114149"
            ]
          },
          "metadata": {
            "tags": []
          },
          "execution_count": 35
        }
      ]
    }
  ]
}
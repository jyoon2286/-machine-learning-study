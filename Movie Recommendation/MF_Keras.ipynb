{
  "nbformat": 4,
  "nbformat_minor": 0,
  "metadata": {
    "colab": {
      "name": "movielense-Keras.ipynb",
      "provenance": [],
      "collapsed_sections": []
    },
    "kernelspec": {
      "name": "python3",
      "display_name": "Python 3"
    },
    "language_info": {
      "name": "python"
    }
  },
  "cells": [
    {
      "cell_type": "code",
      "metadata": {
        "id": "AgQxJcIJzzSH",
        "colab": {
          "base_uri": "https://localhost:8080/"
        },
        "outputId": "a187b9f2-0e41-47e1-abaa-e35285ce070f"
      },
      "source": [
        "pip install pyspark"
      ],
      "execution_count": null,
      "outputs": [
        {
          "output_type": "stream",
          "name": "stdout",
          "text": [
            "Requirement already satisfied: pyspark in /usr/local/lib/python3.7/dist-packages (3.2.0)\n",
            "Requirement already satisfied: py4j==0.10.9.2 in /usr/local/lib/python3.7/dist-packages (from pyspark) (0.10.9.2)\n"
          ]
        }
      ]
    },
    {
      "cell_type": "code",
      "source": [
        "from google.colab import drive\n",
        "drive.mount('/content/drive')"
      ],
      "metadata": {
        "id": "LSxirvjYf8yc",
        "colab": {
          "base_uri": "https://localhost:8080/"
        },
        "outputId": "ac339fe2-2929-4c8f-d7ac-2f68f985cdf4"
      },
      "execution_count": null,
      "outputs": [
        {
          "output_type": "stream",
          "name": "stdout",
          "text": [
            "Mounted at /content/drive\n"
          ]
        }
      ]
    },
    {
      "cell_type": "code",
      "metadata": {
        "id": "2LS2jgG9z6Gl"
      },
      "source": [
        "# SparkContext\n",
        "from pyspark import SparkContext\n",
        "sc = SparkContext(\"local\", \"MSML651\")"
      ],
      "execution_count": null,
      "outputs": []
    },
    {
      "cell_type": "code",
      "source": [
        "import tensorflow as tf\n",
        "from tensorflow.keras import layers\n",
        "from tensorflow.keras.models import Model\n",
        "from tensorflow.keras.layers import Input,Embedding,Dot,Add,Flatten\n",
        "from tensorflow.keras.regularizers import l2\n",
        "from tensorflow.keras.optimizers import SGD "
      ],
      "metadata": {
        "id": "PTL9X7L_eejB"
      },
      "execution_count": null,
      "outputs": []
    },
    {
      "cell_type": "code",
      "source": [
        "import numpy as np"
      ],
      "metadata": {
        "id": "Z3Nvf66bctbD"
      },
      "execution_count": null,
      "outputs": []
    },
    {
      "cell_type": "code",
      "source": [
        "from pyspark.sql import SparkSession\n",
        "# creat a sparksession to read data on pyspark \n",
        "spark = SparkSession.builder.getOrCreate()\n",
        "df_rdd = spark.read.csv('/content/drive/MyDrive/651/ml-1m/ratings.dat',sep = '::').toDF('userId', 'movieId','rating','timestamp')\n",
        "# reading data on pyspark dataframe\n",
        "df_ratings = df_rdd.select('userId','movieId','rating')\n",
        "df_ratings = df_ratings.withColumn(\"userId\",df_ratings.userId.cast('int'))\n",
        "df_ratings = df_ratings.withColumn(\"movieId\",df_ratings.movieId.cast('int'))\n",
        "df_ratings = df_ratings.withColumn(\"rating\",df_ratings.rating.cast('int'))\n",
        "df_ratings.limit(5).toPandas()"
      ],
      "metadata": {
        "colab": {
          "base_uri": "https://localhost:8080/",
          "height": 206
        },
        "id": "BxT4a4IhpkKC",
        "outputId": "b8258c72-7183-4f8f-ff5c-3a84f41b17da"
      },
      "execution_count": null,
      "outputs": [
        {
          "output_type": "execute_result",
          "data": {
            "text/html": [
              "<div>\n",
              "<style scoped>\n",
              "    .dataframe tbody tr th:only-of-type {\n",
              "        vertical-align: middle;\n",
              "    }\n",
              "\n",
              "    .dataframe tbody tr th {\n",
              "        vertical-align: top;\n",
              "    }\n",
              "\n",
              "    .dataframe thead th {\n",
              "        text-align: right;\n",
              "    }\n",
              "</style>\n",
              "<table border=\"1\" class=\"dataframe\">\n",
              "  <thead>\n",
              "    <tr style=\"text-align: right;\">\n",
              "      <th></th>\n",
              "      <th>userId</th>\n",
              "      <th>movieId</th>\n",
              "      <th>rating</th>\n",
              "    </tr>\n",
              "  </thead>\n",
              "  <tbody>\n",
              "    <tr>\n",
              "      <th>0</th>\n",
              "      <td>1</td>\n",
              "      <td>1193</td>\n",
              "      <td>5</td>\n",
              "    </tr>\n",
              "    <tr>\n",
              "      <th>1</th>\n",
              "      <td>1</td>\n",
              "      <td>661</td>\n",
              "      <td>3</td>\n",
              "    </tr>\n",
              "    <tr>\n",
              "      <th>2</th>\n",
              "      <td>1</td>\n",
              "      <td>914</td>\n",
              "      <td>3</td>\n",
              "    </tr>\n",
              "    <tr>\n",
              "      <th>3</th>\n",
              "      <td>1</td>\n",
              "      <td>3408</td>\n",
              "      <td>4</td>\n",
              "    </tr>\n",
              "    <tr>\n",
              "      <th>4</th>\n",
              "      <td>1</td>\n",
              "      <td>2355</td>\n",
              "      <td>5</td>\n",
              "    </tr>\n",
              "  </tbody>\n",
              "</table>\n",
              "</div>"
            ],
            "text/plain": [
              "   userId  movieId  rating\n",
              "0       1     1193       5\n",
              "1       1      661       3\n",
              "2       1      914       3\n",
              "3       1     3408       4\n",
              "4       1     2355       5"
            ]
          },
          "metadata": {},
          "execution_count": 65
        }
      ]
    },
    {
      "cell_type": "code",
      "source": [
        "#splitting train and test data \n",
        "train_rating, test_rating = df_ratings.randomSplit([.8,.2],seed=2021)"
      ],
      "metadata": {
        "id": "7Ol44FltS88D"
      },
      "execution_count": null,
      "outputs": []
    },
    {
      "cell_type": "code",
      "source": [
        "# k value - latent factor, random k\n",
        "K = 200\n",
        "# mu value\n",
        "mu_df = train_rating.agg({'rating': 'mean'}).collect()[0]\n",
        "mu = mu_df[\"avg(rating)\"]\n",
        "# user_id and movie_id + bias(=1)\n",
        "M_df = df_ratings.agg({'userId':'max'}).collect()[0]\n",
        "M = M_df[\"max(userId)\"] + 1 \n",
        "N_df = df_ratings.agg({'movieId':'max'}).collect()[0]\n",
        "N = N_df[\"max(movieId)\"] + 1 \n",
        "# rmse\n",
        "def RMSE(y_true, y_pred):\n",
        "  return tf.sqrt(tf.reduce_mean(tf.square(y_true - y_pred)))"
      ],
      "metadata": {
        "id": "MqgP_G0veerI"
      },
      "execution_count": null,
      "outputs": []
    },
    {
      "cell_type": "markdown",
      "source": [
        "#### Creating NN model\n"
      ],
      "metadata": {
        "id": "-44NJjUPavur"
      }
    },
    {
      "cell_type": "code",
      "source": [
        "# user and item input\n",
        "user = Input(shape = (1,))\n",
        "item = Input(shape = (1,))\n",
        "# embedding value\n",
        "P_embedding = Embedding(M,K,embeddings_regularizer = l2())(user)\n",
        "Q_embedding = Embedding(N,K,embeddings_regularizer = l2())(item)\n",
        "#bias\n",
        "user_bias = Embedding(M, 1, embeddings_regularizer = l2())(user)\n",
        "item_bias = Embedding(N, 1, embeddings_regularizer = l2())(item)"
      ],
      "metadata": {
        "id": "HhxhT7GTexHx"
      },
      "execution_count": null,
      "outputs": []
    },
    {
      "cell_type": "code",
      "source": [
        "R = layers.dot([P_embedding,Q_embedding],axes=(2,2))\n",
        "R = layers.add([R,user_bias,item_bias])\n",
        "R = Flatten()(R)\n",
        "model = Model(inputs= [user,item], outputs= R)\n",
        "model.compile(\n",
        "    loss=RMSE,\n",
        "    optimizer = SGD(),\n",
        "    metrics =[RMSE]\n",
        ")\n",
        "model.summary()"
      ],
      "metadata": {
        "id": "ZTso6vIj7kkO",
        "colab": {
          "base_uri": "https://localhost:8080/"
        },
        "outputId": "476243b5-fec4-4738-df16-09ff00dc7a02"
      },
      "execution_count": null,
      "outputs": [
        {
          "output_type": "stream",
          "name": "stdout",
          "text": [
            "Model: \"model\"\n",
            "__________________________________________________________________________________________________\n",
            " Layer (type)                   Output Shape         Param #     Connected to                     \n",
            "==================================================================================================\n",
            " input_5 (InputLayer)           [(None, 1)]          0           []                               \n",
            "                                                                                                  \n",
            " input_6 (InputLayer)           [(None, 1)]          0           []                               \n",
            "                                                                                                  \n",
            " embedding (Embedding)          (None, 1, 200)       1208200     ['input_5[0][0]']                \n",
            "                                                                                                  \n",
            " embedding_1 (Embedding)        (None, 1, 200)       790600      ['input_6[0][0]']                \n",
            "                                                                                                  \n",
            " dot (Dot)                      (None, 1, 1)         0           ['embedding[0][0]',              \n",
            "                                                                  'embedding_1[0][0]']            \n",
            "                                                                                                  \n",
            " embedding_2 (Embedding)        (None, 1, 1)         6041        ['input_5[0][0]']                \n",
            "                                                                                                  \n",
            " embedding_3 (Embedding)        (None, 1, 1)         3953        ['input_6[0][0]']                \n",
            "                                                                                                  \n",
            " add (Add)                      (None, 1, 1)         0           ['dot[0][0]',                    \n",
            "                                                                  'embedding_2[0][0]',            \n",
            "                                                                  'embedding_3[0][0]']            \n",
            "                                                                                                  \n",
            " flatten (Flatten)              (None, 1)            0           ['add[0][0]']                    \n",
            "                                                                                                  \n",
            "==================================================================================================\n",
            "Total params: 2,008,794\n",
            "Trainable params: 2,008,794\n",
            "Non-trainable params: 0\n",
            "__________________________________________________________________________________________________\n"
          ]
        }
      ]
    },
    {
      "cell_type": "code",
      "source": [
        "result = model.fit(\n",
        "    x = [np.array(train_rating.select(\"userId\").collect()).reshape(-1),\n",
        "         np.array(train_rating.select(\"movieId\").collect()).reshape(-1)],\n",
        "    y = np.array(train_rating.select(\"rating\").collect()).reshape(-1) - mu,\n",
        "\n",
        "    epochs = 60,\n",
        "    batch_size = 256,\n",
        "    validation_data = (\n",
        "        [np.array(test_rating.select(\"userId\").collect()).reshape(-1),\n",
        "         np.array(test_rating.select(\"movieId\").collect()).reshape(-1)],\n",
        "         np.array(test_rating.select(\"rating\").collect()).reshape(-1) - mu\n",
        "    )\n",
        ")"
      ],
      "metadata": {
        "colab": {
          "base_uri": "https://localhost:8080/"
        },
        "id": "mnoP619Tas8U",
        "outputId": "0ee69b11-dd9d-44c3-b337-ecf94e9cc1a3"
      },
      "execution_count": null,
      "outputs": [
        {
          "output_type": "stream",
          "name": "stdout",
          "text": [
            "Epoch 1/60\n",
            "3128/3128 [==============================] - 60s 19ms/step - loss: 10.6608 - RMSE: 1.1140 - val_loss: 5.8922 - val_RMSE: 1.1043\n",
            "Epoch 2/60\n",
            "3128/3128 [==============================] - 63s 20ms/step - loss: 3.8431 - RMSE: 1.1098 - val_loss: 2.4742 - val_RMSE: 1.1014\n",
            "Epoch 3/60\n",
            "3128/3128 [==============================] - 62s 20ms/step - loss: 1.8925 - RMSE: 1.1077 - val_loss: 1.4963 - val_RMSE: 1.0999\n",
            "Epoch 4/60\n",
            "3128/3128 [==============================] - 59s 19ms/step - loss: 1.3345 - RMSE: 1.1067 - val_loss: 1.2166 - val_RMSE: 1.0992\n",
            "Epoch 5/60\n",
            "3128/3128 [==============================] - 58s 19ms/step - loss: 1.1748 - RMSE: 1.1061 - val_loss: 1.1365 - val_RMSE: 1.0988\n",
            "Epoch 6/60\n",
            "3128/3128 [==============================] - 58s 19ms/step - loss: 1.1291 - RMSE: 1.1058 - val_loss: 1.1136 - val_RMSE: 1.0986\n",
            "Epoch 7/60\n",
            "3128/3128 [==============================] - 58s 19ms/step - loss: 1.1160 - RMSE: 1.1055 - val_loss: 1.1071 - val_RMSE: 1.0985\n",
            "Epoch 8/60\n",
            "3128/3128 [==============================] - 59s 19ms/step - loss: 1.1123 - RMSE: 1.1056 - val_loss: 1.1052 - val_RMSE: 1.0984\n",
            "Epoch 9/60\n",
            "3128/3128 [==============================] - 58s 19ms/step - loss: 1.1113 - RMSE: 1.1055 - val_loss: 1.1047 - val_RMSE: 1.0984\n",
            "Epoch 10/60\n",
            "3128/3128 [==============================] - 57s 18ms/step - loss: 1.1110 - RMSE: 1.1055 - val_loss: 1.1045 - val_RMSE: 1.0984\n",
            "Epoch 11/60\n",
            "3128/3128 [==============================] - 59s 19ms/step - loss: 1.1108 - RMSE: 1.1054 - val_loss: 1.1045 - val_RMSE: 1.0984\n",
            "Epoch 12/60\n",
            "3128/3128 [==============================] - 58s 19ms/step - loss: 1.1108 - RMSE: 1.1054 - val_loss: 1.1045 - val_RMSE: 1.0984\n",
            "Epoch 13/60\n",
            "3128/3128 [==============================] - 58s 19ms/step - loss: 1.1108 - RMSE: 1.1055 - val_loss: 1.1045 - val_RMSE: 1.0984\n",
            "Epoch 14/60\n",
            "3128/3128 [==============================] - 58s 19ms/step - loss: 1.1108 - RMSE: 1.1054 - val_loss: 1.1045 - val_RMSE: 1.0984\n",
            "Epoch 15/60\n",
            "3128/3128 [==============================] - 57s 18ms/step - loss: 1.1109 - RMSE: 1.1055 - val_loss: 1.1045 - val_RMSE: 1.0984\n",
            "Epoch 16/60\n",
            "3128/3128 [==============================] - 59s 19ms/step - loss: 1.1108 - RMSE: 1.1054 - val_loss: 1.1045 - val_RMSE: 1.0984\n",
            "Epoch 17/60\n",
            "3128/3128 [==============================] - 60s 19ms/step - loss: 1.1108 - RMSE: 1.1056 - val_loss: 1.1045 - val_RMSE: 1.0984\n",
            "Epoch 18/60\n",
            "3128/3128 [==============================] - 59s 19ms/step - loss: 1.1108 - RMSE: 1.1055 - val_loss: 1.1045 - val_RMSE: 1.0984\n",
            "Epoch 19/60\n",
            "3128/3128 [==============================] - 58s 18ms/step - loss: 1.1108 - RMSE: 1.1055 - val_loss: 1.1045 - val_RMSE: 1.0984\n",
            "Epoch 20/60\n",
            "3128/3128 [==============================] - 58s 19ms/step - loss: 1.1108 - RMSE: 1.1055 - val_loss: 1.1045 - val_RMSE: 1.0984\n",
            "Epoch 21/60\n",
            "3128/3128 [==============================] - 59s 19ms/step - loss: 1.1108 - RMSE: 1.1055 - val_loss: 1.1045 - val_RMSE: 1.0984\n",
            "Epoch 22/60\n",
            "3128/3128 [==============================] - 58s 19ms/step - loss: 1.1108 - RMSE: 1.1055 - val_loss: 1.1045 - val_RMSE: 1.0984\n",
            "Epoch 23/60\n",
            "3128/3128 [==============================] - 59s 19ms/step - loss: 1.1109 - RMSE: 1.1055 - val_loss: 1.1045 - val_RMSE: 1.0984\n",
            "Epoch 24/60\n",
            "3128/3128 [==============================] - 59s 19ms/step - loss: 1.1108 - RMSE: 1.1056 - val_loss: 1.1045 - val_RMSE: 1.0984\n",
            "Epoch 25/60\n",
            "3128/3128 [==============================] - 59s 19ms/step - loss: 1.1108 - RMSE: 1.1054 - val_loss: 1.1045 - val_RMSE: 1.0984\n",
            "Epoch 26/60\n",
            "3128/3128 [==============================] - 58s 19ms/step - loss: 1.1108 - RMSE: 1.1054 - val_loss: 1.1045 - val_RMSE: 1.0984\n",
            "Epoch 27/60\n",
            "3128/3128 [==============================] - 58s 19ms/step - loss: 1.1109 - RMSE: 1.1055 - val_loss: 1.1045 - val_RMSE: 1.0984\n",
            "Epoch 28/60\n",
            "3128/3128 [==============================] - 59s 19ms/step - loss: 1.1108 - RMSE: 1.1054 - val_loss: 1.1045 - val_RMSE: 1.0984\n",
            "Epoch 29/60\n",
            "3128/3128 [==============================] - 61s 19ms/step - loss: 1.1108 - RMSE: 1.1055 - val_loss: 1.1045 - val_RMSE: 1.0984\n",
            "Epoch 30/60\n",
            "3128/3128 [==============================] - 59s 19ms/step - loss: 1.1108 - RMSE: 1.1055 - val_loss: 1.1045 - val_RMSE: 1.0984\n",
            "Epoch 31/60\n",
            "3128/3128 [==============================] - 58s 19ms/step - loss: 1.1109 - RMSE: 1.1055 - val_loss: 1.1045 - val_RMSE: 1.0984\n",
            "Epoch 32/60\n",
            "3128/3128 [==============================] - 58s 19ms/step - loss: 1.1109 - RMSE: 1.1055 - val_loss: 1.1045 - val_RMSE: 1.0984\n",
            "Epoch 33/60\n",
            "3128/3128 [==============================] - 59s 19ms/step - loss: 1.1108 - RMSE: 1.1054 - val_loss: 1.1045 - val_RMSE: 1.0984\n",
            "Epoch 34/60\n",
            "3128/3128 [==============================] - 59s 19ms/step - loss: 1.1108 - RMSE: 1.1054 - val_loss: 1.1045 - val_RMSE: 1.0984\n",
            "Epoch 35/60\n",
            "3128/3128 [==============================] - 58s 19ms/step - loss: 1.1108 - RMSE: 1.1055 - val_loss: 1.1045 - val_RMSE: 1.0984\n",
            "Epoch 36/60\n",
            "3128/3128 [==============================] - 60s 19ms/step - loss: 1.1108 - RMSE: 1.1055 - val_loss: 1.1045 - val_RMSE: 1.0984\n",
            "Epoch 37/60\n",
            "3128/3128 [==============================] - 58s 19ms/step - loss: 1.1108 - RMSE: 1.1054 - val_loss: 1.1045 - val_RMSE: 1.0984\n",
            "Epoch 38/60\n",
            "3128/3128 [==============================] - 58s 19ms/step - loss: 1.1109 - RMSE: 1.1055 - val_loss: 1.1045 - val_RMSE: 1.0984\n",
            "Epoch 39/60\n",
            "3128/3128 [==============================] - 63s 20ms/step - loss: 1.1109 - RMSE: 1.1055 - val_loss: 1.1045 - val_RMSE: 1.0984\n",
            "Epoch 40/60\n",
            "3128/3128 [==============================] - 58s 19ms/step - loss: 1.1108 - RMSE: 1.1055 - val_loss: 1.1045 - val_RMSE: 1.0984\n",
            "Epoch 41/60\n",
            "3128/3128 [==============================] - 59s 19ms/step - loss: 1.1108 - RMSE: 1.1055 - val_loss: 1.1045 - val_RMSE: 1.0984\n",
            "Epoch 42/60\n",
            "3128/3128 [==============================] - 59s 19ms/step - loss: 1.1109 - RMSE: 1.1056 - val_loss: 1.1045 - val_RMSE: 1.0984\n",
            "Epoch 43/60\n",
            "3128/3128 [==============================] - 61s 19ms/step - loss: 1.1108 - RMSE: 1.1056 - val_loss: 1.1045 - val_RMSE: 1.0984\n",
            "Epoch 44/60\n",
            "3128/3128 [==============================] - 59s 19ms/step - loss: 1.1108 - RMSE: 1.1054 - val_loss: 1.1045 - val_RMSE: 1.0984\n",
            "Epoch 45/60\n",
            "3128/3128 [==============================] - 60s 19ms/step - loss: 1.1108 - RMSE: 1.1055 - val_loss: 1.1045 - val_RMSE: 1.0984\n",
            "Epoch 46/60\n",
            "3128/3128 [==============================] - 60s 19ms/step - loss: 1.1109 - RMSE: 1.1055 - val_loss: 1.1045 - val_RMSE: 1.0984\n",
            "Epoch 47/60\n",
            "3128/3128 [==============================] - 60s 19ms/step - loss: 1.1108 - RMSE: 1.1055 - val_loss: 1.1045 - val_RMSE: 1.0984\n",
            "Epoch 48/60\n",
            "3128/3128 [==============================] - 60s 19ms/step - loss: 1.1108 - RMSE: 1.1054 - val_loss: 1.1045 - val_RMSE: 1.0984\n",
            "Epoch 49/60\n",
            "3128/3128 [==============================] - 61s 19ms/step - loss: 1.1108 - RMSE: 1.1054 - val_loss: 1.1045 - val_RMSE: 1.0984\n",
            "Epoch 50/60\n",
            "3128/3128 [==============================] - 62s 20ms/step - loss: 1.1108 - RMSE: 1.1055 - val_loss: 1.1045 - val_RMSE: 1.0984\n",
            "Epoch 51/60\n",
            "3128/3128 [==============================] - 61s 19ms/step - loss: 1.1108 - RMSE: 1.1054 - val_loss: 1.1045 - val_RMSE: 1.0984\n",
            "Epoch 52/60\n",
            "3128/3128 [==============================] - 61s 19ms/step - loss: 1.1109 - RMSE: 1.1056 - val_loss: 1.1045 - val_RMSE: 1.0984\n",
            "Epoch 53/60\n",
            "3128/3128 [==============================] - 61s 19ms/step - loss: 1.1108 - RMSE: 1.1056 - val_loss: 1.1045 - val_RMSE: 1.0984\n",
            "Epoch 54/60\n",
            "3128/3128 [==============================] - 60s 19ms/step - loss: 1.1109 - RMSE: 1.1055 - val_loss: 1.1045 - val_RMSE: 1.0984\n",
            "Epoch 55/60\n",
            "3128/3128 [==============================] - 65s 21ms/step - loss: 1.1108 - RMSE: 1.1054 - val_loss: 1.1045 - val_RMSE: 1.0984\n",
            "Epoch 56/60\n",
            "3128/3128 [==============================] - 63s 20ms/step - loss: 1.1108 - RMSE: 1.1054 - val_loss: 1.1045 - val_RMSE: 1.0984\n",
            "Epoch 57/60\n",
            "3128/3128 [==============================] - 62s 20ms/step - loss: 1.1108 - RMSE: 1.1055 - val_loss: 1.1045 - val_RMSE: 1.0984\n",
            "Epoch 58/60\n",
            "3128/3128 [==============================] - 60s 19ms/step - loss: 1.1108 - RMSE: 1.1055 - val_loss: 1.1045 - val_RMSE: 1.0984\n",
            "Epoch 59/60\n",
            "3128/3128 [==============================] - 61s 19ms/step - loss: 1.1108 - RMSE: 1.1054 - val_loss: 1.1045 - val_RMSE: 1.0984\n",
            "Epoch 60/60\n",
            "3128/3128 [==============================] - 61s 20ms/step - loss: 1.1108 - RMSE: 1.1055 - val_loss: 1.1045 - val_RMSE: 1.0984\n"
          ]
        }
      ]
    },
    {
      "cell_type": "code",
      "source": [
        "import matplotlib.pyplot as plt\n",
        "plt.plot(result.history['RMSE'], label=\"Train RMSE\")\n",
        "plt.plot(result.history['val_RMSE'], label=\"Test RMSE\")\n",
        "plt.title('MF model using Keras - RMSE')\n",
        "plt.legend()\n",
        "plt.show()"
      ],
      "metadata": {
        "colab": {
          "base_uri": "https://localhost:8080/",
          "height": 265
        },
        "id": "QzAv6fdXd4BJ",
        "outputId": "7cd45d1b-95a3-4e52-93fd-283342370093"
      },
      "execution_count": null,
      "outputs": [
        {
          "output_type": "display_data",
          "data": {
            "image/png": "[encoded data removed]",
            "text/plain": [
              "<Figure size 432x288 with 1 Axes>"
            ]
          },
          "metadata": {
            "needs_background": "light"
          }
        }
      ]
    },
    {
      "cell_type": "markdown",
      "source": [
        "#### Output - prediction"
      ],
      "metadata": {
        "id": "p_XZyZSffXKJ"
      }
    },
    {
      "cell_type": "code",
      "source": [
        "user_ids = np.array(test_rating.select(\"userId\").collect()).reshape(-1)[0:5]\n",
        "movie_ids = np.array(test_rating.select(\"movieId\").collect()).reshape(-1)[0:5]\n",
        "predictions = model.predict([user_ids,movie_ids]) + mu\n",
        "print(test_rating.limit(5).toPandas())"
      ],
      "metadata": {
        "colab": {
          "base_uri": "https://localhost:8080/"
        },
        "id": "TzzahcmOfYtX",
        "outputId": "517c9536-6a6b-47b3-d77c-f8864380e0d9"
      },
      "execution_count": null,
      "outputs": [
        {
          "output_type": "stream",
          "name": "stdout",
          "text": [
            "   userId  movieId  rating\n",
            "0       1      260       4\n",
            "1       1      588       4\n",
            "2       1      608       4\n",
            "3       1     1907       4\n",
            "4       1     2692       4\n"
          ]
        }
      ]
    },
    {
      "cell_type": "code",
      "source": [
        "print(predictions)"
      ],
      "metadata": {
        "colab": {
          "base_uri": "https://localhost:8080/"
        },
        "id": "Y2eR9gjhgwgx",
        "outputId": "798c69d7-c9cb-4030-84e4-04bcfe0ceda9"
      },
      "execution_count": null,
      "outputs": [
        {
          "output_type": "stream",
          "name": "stdout",
          "text": [
            "[[3.6882913]\n",
            " [3.594316 ]\n",
            " [3.6510217]\n",
            " [3.586142 ]\n",
            " [3.612724 ]]\n"
          ]
        }
      ]
    },
    {
      "cell_type": "code",
      "source": [
        "# I had to hard code this cell since I forgot to do it, and I didn't want to re-run it \n",
        "import pandas as pd \n",
        "df_output = pd.DataFrame({'userID':[1,1,1,1,1], 'movieId':[260,588,608,1907,2692], 'rating':[4,4,4,4,4],'prediction':[3.6882913,3.594316,3.6510217,3.586142,3.612724]})\n",
        "movie = pd.read_csv(\"/content/drive/MyDrive/651/ml-1m/movies.dat\",\n",
        "                      sep = '::',\n",
        "                      names = ['movieId','movie', 'genre'],\n",
        "                      encoding = 'latin-1')\n",
        "df_movie_rating = df_output.merge(movie, how='inner', on='movieId')\n",
        "df_movie_rating"
      ],
      "metadata": {
        "colab": {
          "base_uri": "https://localhost:8080/",
          "height": 261
        },
        "id": "h4bJDVIiOchh",
        "outputId": "da7c74b7-c247-42c9-e54c-20f975654830"
      },
      "execution_count": null,
      "outputs": [
        {
          "output_type": "stream",
          "name": "stderr",
          "text": [
            "/usr/local/lib/python3.7/dist-packages/ipykernel_launcher.py:7: ParserWarning: Falling back to the 'python' engine because the 'c' engine does not support regex separators (separators > 1 char and different from '\\s+' are interpreted as regex); you can avoid this warning by specifying engine='python'.\n",
            "  import sys\n"
          ]
        },
        {
          "output_type": "execute_result",
          "data": {
            "text/html": [
              "<div>\n",
              "<style scoped>\n",
              "    .dataframe tbody tr th:only-of-type {\n",
              "        vertical-align: middle;\n",
              "    }\n",
              "\n",
              "    .dataframe tbody tr th {\n",
              "        vertical-align: top;\n",
              "    }\n",
              "\n",
              "    .dataframe thead th {\n",
              "        text-align: right;\n",
              "    }\n",
              "</style>\n",
              "<table border=\"1\" class=\"dataframe\">\n",
              "  <thead>\n",
              "    <tr style=\"text-align: right;\">\n",
              "      <th></th>\n",
              "      <th>userID</th>\n",
              "      <th>movieId</th>\n",
              "      <th>rating</th>\n",
              "      <th>prediction</th>\n",
              "      <th>movie</th>\n",
              "      <th>genre</th>\n",
              "    </tr>\n",
              "  </thead>\n",
              "  <tbody>\n",
              "    <tr>\n",
              "      <th>0</th>\n",
              "      <td>1</td>\n",
              "      <td>260</td>\n",
              "      <td>4</td>\n",
              "      <td>3.688291</td>\n",
              "      <td>Star Wars: Episode IV - A New Hope (1977)</td>\n",
              "      <td>Action|Adventure|Fantasy|Sci-Fi</td>\n",
              "    </tr>\n",
              "    <tr>\n",
              "      <th>1</th>\n",
              "      <td>1</td>\n",
              "      <td>588</td>\n",
              "      <td>4</td>\n",
              "      <td>3.594316</td>\n",
              "      <td>Aladdin (1992)</td>\n",
              "      <td>Animation|Children's|Comedy|Musical</td>\n",
              "    </tr>\n",
              "    <tr>\n",
              "      <th>2</th>\n",
              "      <td>1</td>\n",
              "      <td>608</td>\n",
              "      <td>4</td>\n",
              "      <td>3.651022</td>\n",
              "      <td>Fargo (1996)</td>\n",
              "      <td>Crime|Drama|Thriller</td>\n",
              "    </tr>\n",
              "    <tr>\n",
              "      <th>3</th>\n",
              "      <td>1</td>\n",
              "      <td>1907</td>\n",
              "      <td>4</td>\n",
              "      <td>3.586142</td>\n",
              "      <td>Mulan (1998)</td>\n",
              "      <td>Animation|Children's</td>\n",
              "    </tr>\n",
              "    <tr>\n",
              "      <th>4</th>\n",
              "      <td>1</td>\n",
              "      <td>2692</td>\n",
              "      <td>4</td>\n",
              "      <td>3.612724</td>\n",
              "      <td>Run Lola Run (Lola rennt) (1998)</td>\n",
              "      <td>Action|Crime|Romance</td>\n",
              "    </tr>\n",
              "  </tbody>\n",
              "</table>\n",
              "</div>"
            ],
            "text/plain": [
              "   userID  ...                                genre\n",
              "0       1  ...      Action|Adventure|Fantasy|Sci-Fi\n",
              "1       1  ...  Animation|Children's|Comedy|Musical\n",
              "2       1  ...                 Crime|Drama|Thriller\n",
              "3       1  ...                 Animation|Children's\n",
              "4       1  ...                 Action|Crime|Romance\n",
              "\n",
              "[5 rows x 6 columns]"
            ]
          },
          "metadata": {},
          "execution_count": 5
        }
      ]
    },
    {
      "cell_type": "code",
      "source": [
        ""
      ],
      "metadata": {
        "id": "Nlxh29SuPOwO"
      },
      "execution_count": null,
      "outputs": []
    }
  ]
}
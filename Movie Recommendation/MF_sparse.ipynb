{
  "nbformat": 4,
  "nbformat_minor": 0,
  "metadata": {
    "colab": {
      "name": "movielense-sparse.ipynb",
      "provenance": [],
      "collapsed_sections": [],
      "machine_shape": "hm"
    },
    "kernelspec": {
      "name": "python3",
      "display_name": "Python 3"
    },
    "language_info": {
      "name": "python"
    },
    "accelerator": "GPU"
  },
  "cells": [
    {
      "cell_type": "code",
      "metadata": {
        "colab": {
          "base_uri": "https://localhost:8080/"
        },
        "id": "FEVZvMv_BiAV",
        "outputId": "97142b8c-2d69-4ab4-995c-6cec18d80551"
      },
      "source": [
        "pip install pyspark"
      ],
      "execution_count": null,
      "outputs": [
        {
          "output_type": "stream",
          "name": "stdout",
          "text": [
            "Collecting pyspark\n",
            "  Downloading pyspark-3.2.0.tar.gz (281.3 MB)\n",
            "\u001b[K     |████████████████████████████████| 281.3 MB 33 kB/s \n",
            "\u001b[?25hCollecting py4j==0.10.9.2\n",
            "  Downloading py4j-0.10.9.2-py2.py3-none-any.whl (198 kB)\n",
            "\u001b[K     |████████████████████████████████| 198 kB 47.1 MB/s \n",
            "\u001b[?25hBuilding wheels for collected packages: pyspark\n",
            "  Building wheel for pyspark (setup.py) ... \u001b[?25l\u001b[?25hdone\n",
            "  Created wheel for pyspark: filename=pyspark-3.2.0-py2.py3-none-any.whl size=281805912 sha256=e104fcd197d8ad2ea7974c93189517619e995c69da12195d7ee19c02a84ca523\n",
            "  Stored in directory: /root/.cache/pip/wheels/0b/de/d2/9be5d59d7331c6c2a7c1b6d1a4f463ce107332b1ecd4e80718\n",
            "Successfully built pyspark\n",
            "Installing collected packages: py4j, pyspark\n",
            "Successfully installed py4j-0.10.9.2 pyspark-3.2.0\n"
          ]
        }
      ]
    },
    {
      "cell_type": "code",
      "metadata": {
        "colab": {
          "base_uri": "https://localhost:8080/"
        },
        "id": "8k4Zx6D4RJ-b",
        "outputId": "d4769ddb-4726-4780-c4a9-f91d15c3e076"
      },
      "source": [
        "from google.colab import drive\n",
        "drive.mount('/content/drive')"
      ],
      "execution_count": null,
      "outputs": [
        {
          "output_type": "stream",
          "name": "stdout",
          "text": [
            "Mounted at /content/drive\n"
          ]
        }
      ]
    },
    {
      "cell_type": "markdown",
      "metadata": {
        "id": "kQVhKweYy9F3"
      },
      "source": [
        "# pyspark - sparse matrix "
      ]
    },
    {
      "cell_type": "code",
      "metadata": {
        "id": "xDfAXR7ZbbhB",
        "colab": {
          "base_uri": "https://localhost:8080/"
        },
        "outputId": "41a7bbf8-23e5-40de-9ac5-b8c79bd07a11"
      },
      "source": [
        "from pyspark.sql import SparkSession\n",
        "from scipy import sparse\n",
        "import numpy as np\n",
        "import pandas as pd\n",
        "\n",
        "# creat a sparksession to read data on pyspark \n",
        "spark = SparkSession.builder.getOrCreate()\n",
        "df_rdd = spark.read.csv('/content/drive/MyDrive/651/ml-1m/ratings.dat',sep = '::').toDF('userId', 'movieId','rating','timestamp')\n",
        "# convert Dataframe to array\n",
        "# sparse matrix requires to have 1-d array \n",
        "rows = np.array(df_rdd.select(\"userId\").collect()).reshape(-1)\n",
        "cols = np.array(df_rdd.select(\"movieId\").collect()).reshape(-1)\n",
        "data = np.array(df_rdd.select(\"rating\").collect()).reshape(-1)\n",
        "\n",
        "# converting array into sparse matrix format \n",
        "sparse_matrix = sparse.coo_matrix((data, (rows, cols)), shape=(len(rows), len(cols)), dtype= int)\n",
        "sparse_matrix = sparse_matrix.tocsr()\n",
        "\n",
        "# reading data in pandas for splitting dataset\n",
        "ratings = pd.read_csv(\"/content/drive/MyDrive/651/ml-1m/ratings.dat\",\n",
        "                      sep = '::',\n",
        "                      names = ['userId', 'movieId','rating','timestamp'],\n",
        "                      encoding = 'latin-1')\n",
        "ratings = ratings[['userId', 'movieId','rating']].astype(int)"
      ],
      "execution_count": null,
      "outputs": [
        {
          "output_type": "stream",
          "name": "stderr",
          "text": [
            "/usr/local/lib/python3.7/dist-packages/ipykernel_launcher.py:23: ParserWarning: Falling back to the 'python' engine because the 'c' engine does not support regex separators (separators > 1 char and different from '\\s+' are interpreted as regex); you can avoid this warning by specifying engine='python'.\n"
          ]
        }
      ]
    },
    {
      "cell_type": "markdown",
      "source": [
        "#### Matrix Factorization"
      ],
      "metadata": {
        "id": "HwomYD1UK72Q"
      }
    },
    {
      "cell_type": "code",
      "metadata": {
        "id": "Z-G-ynOzSb52"
      },
      "source": [
        "class MF():\n",
        "  # reading data and hyper parameters\n",
        "  def __init__(self, ratings, hyper_params):\n",
        "    self.R = ratings\n",
        "    self.num_users,self.num_items = np.shape(self.R)\n",
        "    self.K = hyper_params['K']\n",
        "    self.alpha = hyper_params['alpha']\n",
        "    self.beta = hyper_params['beta']\n",
        "    self.iterations = hyper_params['iterations']\n",
        "    self.verbose = hyper_params['verbose']\n",
        "  \n",
        "  # calculating rmse\n",
        "  def rmse(self):\n",
        "    xs, ys = self.R.nonzero()\n",
        "    self.predictions = []\n",
        "    self.errors = []\n",
        "    for x,y in zip(xs,ys):\n",
        "      prediction = self.get_prediction(x, y)\n",
        "      self.predictions.append(prediction)\n",
        "      self.errors.append(self.R[x,y] - prediction)\n",
        "    self.predictions = np.array(self.predictions)\n",
        "    self.errors = np.array(self.errors)\n",
        "    return np.sqrt(np.mean(self.errors**2))\n",
        "\n",
        "  # function to implement the SGD \n",
        "  def sgd(self):\n",
        "    for i,j,r in self.samples:\n",
        "      prediction = self.get_prediction(i,j)\n",
        "      e = ( r - prediction)\n",
        "\n",
        "      self.b_u[i] += self.alpha * (e - (self.beta * self.b_u[i]))\n",
        "      self.b_u[j] += self.alpha * (e - (self.beta * self.b_u[j]))\n",
        "\n",
        "      self.P[i,:] += self.alpha * ((e * self.Q[j,:]) - (self.beta * self.P[i,:]))\n",
        "      self.Q[j,:] += self.alpha * ((e * self.P[i,:]) - (self.beta * self.P[j,:]))\n",
        "\n",
        "  def get_prediction(self,i,j):\n",
        "    prediction = self.b + self.b_u[i] + self.b_d[j] +self.P[i,:].dot(self.Q[j,:].T)\n",
        "    return prediction\n",
        "\n",
        "  def set_test(self,ratings_test):\n",
        "    test_set = []\n",
        "    for i in range(len(ratings_test)):\n",
        "      x,y,z = ratings_test.iloc[i]\n",
        "      test_set.append([x,y,z])\n",
        "      self.R[x,y] = 0\n",
        "    self.test_set = test_set\n",
        "    return test_set\n",
        "\n",
        "  def test_rmse(self):\n",
        "    error = 0\n",
        "    for one_set in self.test_set:\n",
        "      predicted = self.get_prediction(one_set[0],one_set[1])\n",
        "      error += pow(one_set[2] - predicted, 2)\n",
        "    return np.sqrt(error/len(self.test_set))\n",
        "\n",
        "  def test(self):\n",
        "    self.P = np.random.normal(scale = 1./self.K, size = (self.num_users, self.K))\n",
        "    self.Q = np.random.normal(scale = 1./self.K, size = (self.num_items, self.K))\n",
        "    self.b_u = np.zeros(self.num_users)\n",
        "    self.b_d = np.zeros(self.num_items)\n",
        "    self.b = np.mean(self.R[self.R.nonzero()])\n",
        "\n",
        "    rows, columns = self.R.nonzero()\n",
        "    self.samples = [ (i,j,self.R[i,j]) for i,j in zip(rows, columns)]\n",
        "\n",
        "    training_process = []\n",
        "    for i in range(self.iterations):\n",
        "      np.random.shuffle(self.samples)\n",
        "      self.sgd()\n",
        "      rmse1 = self.rmse()\n",
        "      rmse2 = self.test_rmse()\n",
        "      training_process.append((i+1,rmse1,rmse2))\n",
        "      if self.verbose:\n",
        "        if (i+1) % 10 == 0 :\n",
        "          print(\"Iteration : %d ; Train RMSE = %.4f ; Test RMSE = %.4f\" % (i+1, rmse1, rmse2))\n",
        "        \n",
        "    return training_process\n",
        "\n",
        "  def get_one_prediction(self,user_id,item_id):\n",
        "    return self.get_prediction(user_id,item_id)\n",
        "\n",
        "  def full_prediction(self):\n",
        "    return self.b + self.b_u[:,np.newaxis] + self.b_d[np.newaxis,:] + self.P.dot(self.Q.T)\n",
        "\n"
      ],
      "execution_count": null,
      "outputs": []
    },
    {
      "cell_type": "code",
      "metadata": {
        "colab": {
          "base_uri": "https://localhost:8080/"
        },
        "id": "9CNyYK9YT7MG",
        "outputId": "524c59ba-a09a-45f1-9a77-78f3b8270fba"
      },
      "source": [
        "from sklearn.model_selection import train_test_split\n",
        "ratings_train,ratings_test = train_test_split(ratings,\n",
        "                                              test_size = 0.2,\n",
        "                                              shuffle = True,\n",
        "                                              random_state = 2021)\n",
        "\n",
        "hyper_params = {\n",
        "    \"K\" : 30,\n",
        "    \"alpha\" : 0.001,\n",
        "    \"beta\" : 0.02,\n",
        "    \"iterations\" : 100,\n",
        "    \"verbose\" : True\n",
        "}\n",
        "\n",
        "mf = MF(sparse_matrix, hyper_params)\n",
        "test_set = mf.set_test(ratings_test)\n",
        "result = mf.test()"
      ],
      "execution_count": null,
      "outputs": [
        {
          "output_type": "stream",
          "name": "stdout",
          "text": [
            "Iteration : 10 ; Train RMSE = 1.1985 ; Test RMSE = 1.2049\n",
            "Iteration : 20 ; Train RMSE = 1.2365 ; Test RMSE = 1.2483\n",
            "Iteration : 30 ; Train RMSE = 1.0386 ; Test RMSE = 1.0599\n",
            "Iteration : 40 ; Train RMSE = 0.9524 ; Test RMSE = 0.9817\n",
            "Iteration : 50 ; Train RMSE = 0.9051 ; Test RMSE = 0.9440\n",
            "Iteration : 60 ; Train RMSE = 0.8705 ; Test RMSE = 0.9212\n",
            "Iteration : 70 ; Train RMSE = 0.8410 ; Test RMSE = 0.9064\n",
            "Iteration : 80 ; Train RMSE = 0.8149 ; Test RMSE = 0.8973\n",
            "Iteration : 90 ; Train RMSE = 0.7922 ; Test RMSE = 0.8928\n",
            "Iteration : 100 ; Train RMSE = 0.7728 ; Test RMSE = 0.8920\n"
          ]
        }
      ]
    },
    {
      "cell_type": "markdown",
      "metadata": {
        "id": "m9CdDMNF1iGQ"
      },
      "source": [
        "# Output"
      ]
    },
    {
      "cell_type": "markdown",
      "metadata": {
        "id": "MQuhbFQpxss5"
      },
      "source": [
        "#### RMSE - PLOT\n"
      ]
    },
    {
      "cell_type": "code",
      "metadata": {
        "id": "U45zW5JpxtpC",
        "colab": {
          "base_uri": "https://localhost:8080/",
          "height": 295
        },
        "outputId": "7973cd6b-28cb-463e-c35a-a6fef5437218"
      },
      "source": [
        "from matplotlib import pyplot as plt\n",
        "\n",
        "plt.plot(*zip(*result))\n",
        "plt.title('Gradient descent iteration - RMSE')\n",
        "plt.ylabel('RMSE')\n",
        "plt.xlabel('Iteration')\n",
        "plt.legend(['Train', 'Test'], loc='upper right')\n",
        "plt.show()"
      ],
      "execution_count": null,
      "outputs": [
        {
          "output_type": "display_data",
          "data": {
            "image/png": "[encoded data removed]",
            "text/plain": [
              "<Figure size 432x288 with 1 Axes>"
            ]
          },
          "metadata": {
            "needs_background": "light"
          }
        }
      ]
    },
    {
      "cell_type": "markdown",
      "metadata": {
        "id": "chXupViC1rWG"
      },
      "source": [
        "#### Prediction"
      ]
    },
    {
      "cell_type": "code",
      "metadata": {
        "id": "ThHI0xl_vsKD"
      },
      "source": [
        "# Full prediction\n",
        "# Not able to run in this colab due to out of memory but it was working on 100k dataset \n",
        "# print(mf.full_prediction())"
      ],
      "execution_count": null,
      "outputs": []
    },
    {
      "cell_type": "code",
      "metadata": {
        "colab": {
          "base_uri": "https://localhost:8080/"
        },
        "id": "p2SBbuWz1tO-",
        "outputId": "b376cd0d-e490-489d-af7e-aed2053fc1a0"
      },
      "source": [
        "# One prediction \n",
        "output = [mf.get_one_prediction(1,pred) for pred in range(0,6)]\n",
        "output"
      ],
      "execution_count": null,
      "outputs": [
        {
          "output_type": "execute_result",
          "data": {
            "text/plain": [
              "[4.733526962605859,\n",
              " 3.0600065129566154,\n",
              " 4.329810151161072,\n",
              " 4.604587675106374,\n",
              " 4.9540297555337025,\n",
              " 5.000582586870845]"
            ]
          },
          "metadata": {},
          "execution_count": 20
        }
      ]
    },
    {
      "cell_type": "code",
      "source": [
        "df_output = ratings[:6] \n",
        "df_output[\"prediction\"] = output\n",
        "df_output"
      ],
      "metadata": {
        "colab": {
          "base_uri": "https://localhost:8080/",
          "height": 342
        },
        "id": "RfWyNgLpt8O-",
        "outputId": "614452b6-7c22-4896-a2f6-64c1d1e12b5e"
      },
      "execution_count": null,
      "outputs": [
        {
          "output_type": "stream",
          "name": "stderr",
          "text": [
            "/usr/local/lib/python3.7/dist-packages/ipykernel_launcher.py:2: SettingWithCopyWarning: \n",
            "A value is trying to be set on a copy of a slice from a DataFrame.\n",
            "Try using .loc[row_indexer,col_indexer] = value instead\n",
            "\n",
            "See the caveats in the documentation: https://pandas.pydata.org/pandas-docs/stable/user_guide/indexing.html#returning-a-view-versus-a-copy\n",
            "  \n"
          ]
        },
        {
          "output_type": "execute_result",
          "data": {
            "text/html": [
              "<div>\n",
              "<style scoped>\n",
              "    .dataframe tbody tr th:only-of-type {\n",
              "        vertical-align: middle;\n",
              "    }\n",
              "\n",
              "    .dataframe tbody tr th {\n",
              "        vertical-align: top;\n",
              "    }\n",
              "\n",
              "    .dataframe thead th {\n",
              "        text-align: right;\n",
              "    }\n",
              "</style>\n",
              "<table border=\"1\" class=\"dataframe\">\n",
              "  <thead>\n",
              "    <tr style=\"text-align: right;\">\n",
              "      <th></th>\n",
              "      <th>userId</th>\n",
              "      <th>movieId</th>\n",
              "      <th>rating</th>\n",
              "      <th>prediction</th>\n",
              "    </tr>\n",
              "  </thead>\n",
              "  <tbody>\n",
              "    <tr>\n",
              "      <th>0</th>\n",
              "      <td>1</td>\n",
              "      <td>1193</td>\n",
              "      <td>5</td>\n",
              "      <td>4.733527</td>\n",
              "    </tr>\n",
              "    <tr>\n",
              "      <th>1</th>\n",
              "      <td>1</td>\n",
              "      <td>661</td>\n",
              "      <td>3</td>\n",
              "      <td>3.060007</td>\n",
              "    </tr>\n",
              "    <tr>\n",
              "      <th>2</th>\n",
              "      <td>1</td>\n",
              "      <td>914</td>\n",
              "      <td>3</td>\n",
              "      <td>4.329810</td>\n",
              "    </tr>\n",
              "    <tr>\n",
              "      <th>3</th>\n",
              "      <td>1</td>\n",
              "      <td>3408</td>\n",
              "      <td>4</td>\n",
              "      <td>4.604588</td>\n",
              "    </tr>\n",
              "    <tr>\n",
              "      <th>4</th>\n",
              "      <td>1</td>\n",
              "      <td>2355</td>\n",
              "      <td>5</td>\n",
              "      <td>4.954030</td>\n",
              "    </tr>\n",
              "    <tr>\n",
              "      <th>5</th>\n",
              "      <td>1</td>\n",
              "      <td>1197</td>\n",
              "      <td>3</td>\n",
              "      <td>5.000583</td>\n",
              "    </tr>\n",
              "  </tbody>\n",
              "</table>\n",
              "</div>"
            ],
            "text/plain": [
              "   userId  movieId  rating  prediction\n",
              "0       1     1193       5    4.733527\n",
              "1       1      661       3    3.060007\n",
              "2       1      914       3    4.329810\n",
              "3       1     3408       4    4.604588\n",
              "4       1     2355       5    4.954030\n",
              "5       1     1197       3    5.000583"
            ]
          },
          "metadata": {},
          "execution_count": 26
        }
      ]
    },
    {
      "cell_type": "code",
      "source": [
        "movie = pd.read_csv(\"/content/drive/MyDrive/651/ml-1m/movies.dat\",\n",
        "                      sep = '::',\n",
        "                      names = ['movieId','movie', 'genre'],\n",
        "                      encoding = 'latin-1')"
      ],
      "metadata": {
        "colab": {
          "base_uri": "https://localhost:8080/"
        },
        "id": "P5AR2wHRMNuz",
        "outputId": "b18dd040-7e6c-4e8a-d2dd-8f24d8a84ef0"
      },
      "execution_count": null,
      "outputs": [
        {
          "output_type": "stream",
          "name": "stderr",
          "text": [
            "/usr/local/lib/python3.7/dist-packages/ipykernel_launcher.py:4: ParserWarning: Falling back to the 'python' engine because the 'c' engine does not support regex separators (separators > 1 char and different from '\\s+' are interpreted as regex); you can avoid this warning by specifying engine='python'.\n",
            "  after removing the cwd from sys.path.\n"
          ]
        }
      ]
    },
    {
      "cell_type": "code",
      "source": [
        "df_movie_rating = df_output.merge(movie, how='inner', on='movieId')\n",
        "df_movie_rating"
      ],
      "metadata": {
        "colab": {
          "base_uri": "https://localhost:8080/",
          "height": 238
        },
        "id": "Zm_7j_n-NR19",
        "outputId": "f6619bcf-fe6f-4253-93df-11589848a2d4"
      },
      "execution_count": null,
      "outputs": [
        {
          "output_type": "execute_result",
          "data": {
            "text/html": [
              "<div>\n",
              "<style scoped>\n",
              "    .dataframe tbody tr th:only-of-type {\n",
              "        vertical-align: middle;\n",
              "    }\n",
              "\n",
              "    .dataframe tbody tr th {\n",
              "        vertical-align: top;\n",
              "    }\n",
              "\n",
              "    .dataframe thead th {\n",
              "        text-align: right;\n",
              "    }\n",
              "</style>\n",
              "<table border=\"1\" class=\"dataframe\">\n",
              "  <thead>\n",
              "    <tr style=\"text-align: right;\">\n",
              "      <th></th>\n",
              "      <th>userId</th>\n",
              "      <th>movieId</th>\n",
              "      <th>rating</th>\n",
              "      <th>prediction</th>\n",
              "      <th>movie</th>\n",
              "      <th>genre</th>\n",
              "    </tr>\n",
              "  </thead>\n",
              "  <tbody>\n",
              "    <tr>\n",
              "      <th>0</th>\n",
              "      <td>1</td>\n",
              "      <td>1193</td>\n",
              "      <td>5</td>\n",
              "      <td>4.733527</td>\n",
              "      <td>One Flew Over the Cuckoo's Nest (1975)</td>\n",
              "      <td>Drama</td>\n",
              "    </tr>\n",
              "    <tr>\n",
              "      <th>1</th>\n",
              "      <td>1</td>\n",
              "      <td>661</td>\n",
              "      <td>3</td>\n",
              "      <td>3.060007</td>\n",
              "      <td>James and the Giant Peach (1996)</td>\n",
              "      <td>Animation|Children's|Musical</td>\n",
              "    </tr>\n",
              "    <tr>\n",
              "      <th>2</th>\n",
              "      <td>1</td>\n",
              "      <td>914</td>\n",
              "      <td>3</td>\n",
              "      <td>4.329810</td>\n",
              "      <td>My Fair Lady (1964)</td>\n",
              "      <td>Musical|Romance</td>\n",
              "    </tr>\n",
              "    <tr>\n",
              "      <th>3</th>\n",
              "      <td>1</td>\n",
              "      <td>3408</td>\n",
              "      <td>4</td>\n",
              "      <td>4.604588</td>\n",
              "      <td>Erin Brockovich (2000)</td>\n",
              "      <td>Drama</td>\n",
              "    </tr>\n",
              "    <tr>\n",
              "      <th>4</th>\n",
              "      <td>1</td>\n",
              "      <td>2355</td>\n",
              "      <td>5</td>\n",
              "      <td>4.954030</td>\n",
              "      <td>Bug's Life, A (1998)</td>\n",
              "      <td>Animation|Children's|Comedy</td>\n",
              "    </tr>\n",
              "    <tr>\n",
              "      <th>5</th>\n",
              "      <td>1</td>\n",
              "      <td>1197</td>\n",
              "      <td>3</td>\n",
              "      <td>5.000583</td>\n",
              "      <td>Princess Bride, The (1987)</td>\n",
              "      <td>Action|Adventure|Comedy|Romance</td>\n",
              "    </tr>\n",
              "  </tbody>\n",
              "</table>\n",
              "</div>"
            ],
            "text/plain": [
              "   userId  ...                            genre\n",
              "0       1  ...                            Drama\n",
              "1       1  ...     Animation|Children's|Musical\n",
              "2       1  ...                  Musical|Romance\n",
              "3       1  ...                            Drama\n",
              "4       1  ...      Animation|Children's|Comedy\n",
              "5       1  ...  Action|Adventure|Comedy|Romance\n",
              "\n",
              "[6 rows x 6 columns]"
            ]
          },
          "metadata": {},
          "execution_count": 32
        }
      ]
    },
    {
      "cell_type": "code",
      "source": [
        ""
      ],
      "metadata": {
        "id": "PP9cSPePNu_T"
      },
      "execution_count": null,
      "outputs": []
    }
  ]
}
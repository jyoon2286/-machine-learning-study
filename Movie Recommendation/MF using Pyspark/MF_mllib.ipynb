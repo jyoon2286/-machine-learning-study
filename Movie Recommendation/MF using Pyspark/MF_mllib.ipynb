{
  "nbformat": 4,
  "nbformat_minor": 0,
  "metadata": {
    "colab": {
      "name": "movielense-mllib.ipynb",
      "provenance": [],
      "collapsed_sections": []
    },
    "kernelspec": {
      "display_name": "Python 3",
      "name": "python3"
    },
    "language_info": {
      "name": "python"
    }
  },
  "cells": [
    {
      "cell_type": "code",
      "metadata": {
        "colab": {
          "base_uri": "https://localhost:8080/"
        },
        "id": "_utJmWNst417",
        "outputId": "f5d3c145-8f69-4e53-99bb-cead905ded30"
      },
      "source": [
        "pip install pyspark"
      ],
      "execution_count": null,
      "outputs": [
        {
          "output_type": "stream",
          "name": "stdout",
          "text": [
            "Requirement already satisfied: pyspark in /usr/local/lib/python3.7/dist-packages (3.2.0)\n",
            "Requirement already satisfied: py4j==0.10.9.2 in /usr/local/lib/python3.7/dist-packages (from pyspark) (0.10.9.2)\n"
          ]
        }
      ]
    },
    {
      "cell_type": "code",
      "metadata": {
        "colab": {
          "base_uri": "https://localhost:8080/"
        },
        "id": "NST9P5Z7Vz_l",
        "outputId": "e57988e2-3261-4f1a-a8c6-0a22dbac0942"
      },
      "source": [
        "from google.colab import drive\n",
        "drive.mount('/content/drive')"
      ],
      "execution_count": null,
      "outputs": [
        {
          "output_type": "stream",
          "name": "stdout",
          "text": [
            "Drive already mounted at /content/drive; to attempt to forcibly remount, call drive.mount(\"/content/drive\", force_remount=True).\n"
          ]
        }
      ]
    },
    {
      "cell_type": "markdown",
      "metadata": {
        "id": "zdZUqdZH2l7V"
      },
      "source": [
        "# Pyspark - MLlib - recommendation\n",
        "#### Reference: https://spark.apache.org/docs/latest/mllib-collaborative-filtering.html"
      ]
    },
    {
      "cell_type": "code",
      "metadata": {
        "id": "B9o-I2Oj3BwM"
      },
      "source": [
        "# SparkContext\n",
        "from pyspark import SparkContext\n",
        "sc = SparkContext(\"local\", \"MSML651\")"
      ],
      "execution_count": null,
      "outputs": []
    },
    {
      "cell_type": "code",
      "metadata": {
        "id": "SuTveXYeSKjp"
      },
      "source": [
        "from pyspark.mllib.recommendation import ALS, MatrixFactorizationModel, Rating\n",
        "import math\n",
        "# reading data on pyspark\n",
        "ratings = sc.textFile('/content/drive/MyDrive/651/ml-1m/ratings.dat').map(lambda x: x.split(\"::\"))\n",
        "ratings= ratings.map(lambda l:Rating(int(l[0]),int(l[1]),float(l[2])))\n",
        "ratings_train, ratings_test= ratings.randomSplit([0.8, 0.2])"
      ],
      "execution_count": null,
      "outputs": []
    },
    {
      "cell_type": "code",
      "metadata": {
        "id": "xRt_RxpKSOSs"
      },
      "source": [
        "def train_test_mf (ratings_train,ratings_test):\n",
        "  result = []\n",
        "  for param in range(1,21):\n",
        "    rank = param\n",
        "    numIterations = param    \n",
        "    model = ALS.train(ratings_train, rank, numIterations)\n",
        "    # Evaluate the model on testdata\n",
        "    # dropping the ratings on the tests data\n",
        "    testdata = ratings_test.map(lambda p: (p[0], p[1]))\n",
        "    predictions = model.predictAll(testdata).map(lambda r: ((r[0], r[1]), r[2]))\n",
        "    # joining the prediction with the original test dataset\n",
        "    ratesAndPreds = ratings_test.map(lambda r: ((r[0], r[1]), r[2])).join(predictions)\n",
        "\n",
        "    # calculating error\n",
        "    MSE = ratesAndPreds.map(lambda r: ((r[1][0] - r[1][1])**2)).mean()\n",
        "    print(\"Rank: %d ; Number of Iterations : %d ; Root Mean Squared Error(RMSE)= %.4f \" %(rank, numIterations, math.sqrt(MSE)))\n",
        "    test_set.append(((rank, numIterations) , math.sqrt(MSE)))\n",
        "\n",
        "  return result"
      ],
      "execution_count": null,
      "outputs": []
    },
    {
      "cell_type": "code",
      "metadata": {
        "colab": {
          "base_uri": "https://localhost:8080/"
        },
        "id": "uvBGYRn33tz_",
        "outputId": "9c1f7af2-9a1b-4bf2-801e-4c4f160f78de"
      },
      "source": [
        "# train and test the model \n",
        "result = train_test_mf(ratings_train,ratings_test)"
      ],
      "execution_count": null,
      "outputs": [
        {
          "output_type": "stream",
          "name": "stdout",
          "text": [
            "Rank: 1 ; Number of Iterations : 1 ; Root Mean Squared Error(RMSE)= 3.6194 \n",
            "Rank: 2 ; Number of Iterations : 2 ; Root Mean Squared Error(RMSE)= 1.0700 \n",
            "Rank: 3 ; Number of Iterations : 3 ; Root Mean Squared Error(RMSE)= 0.8949 \n",
            "Rank: 4 ; Number of Iterations : 4 ; Root Mean Squared Error(RMSE)= 0.8883 \n",
            "Rank: 5 ; Number of Iterations : 5 ; Root Mean Squared Error(RMSE)= 0.8811 \n",
            "Rank: 6 ; Number of Iterations : 6 ; Root Mean Squared Error(RMSE)= 0.8812 \n",
            "Rank: 7 ; Number of Iterations : 7 ; Root Mean Squared Error(RMSE)= 0.8810 \n",
            "Rank: 8 ; Number of Iterations : 8 ; Root Mean Squared Error(RMSE)= 0.8839 \n",
            "Rank: 9 ; Number of Iterations : 9 ; Root Mean Squared Error(RMSE)= 0.8862 \n",
            "Rank: 10 ; Number of Iterations : 10 ; Root Mean Squared Error(RMSE)= 0.8945 \n",
            "Rank: 11 ; Number of Iterations : 11 ; Root Mean Squared Error(RMSE)= 0.8972 \n",
            "Rank: 12 ; Number of Iterations : 12 ; Root Mean Squared Error(RMSE)= 0.9079 \n",
            "Rank: 13 ; Number of Iterations : 13 ; Root Mean Squared Error(RMSE)= 0.9076 \n",
            "Rank: 14 ; Number of Iterations : 14 ; Root Mean Squared Error(RMSE)= 0.9141 \n",
            "Rank: 15 ; Number of Iterations : 15 ; Root Mean Squared Error(RMSE)= 0.9205 \n",
            "Rank: 16 ; Number of Iterations : 16 ; Root Mean Squared Error(RMSE)= 0.9267 \n",
            "Rank: 17 ; Number of Iterations : 17 ; Root Mean Squared Error(RMSE)= 0.9310 \n",
            "Rank: 18 ; Number of Iterations : 18 ; Root Mean Squared Error(RMSE)= 0.9377 \n",
            "Rank: 19 ; Number of Iterations : 19 ; Root Mean Squared Error(RMSE)= 0.9419 \n",
            "Rank: 20 ; Number of Iterations : 20 ; Root Mean Squared Error(RMSE)= 0.9447 \n"
          ]
        }
      ]
    },
    {
      "cell_type": "code",
      "metadata": {
        "id": "o51oZci6i7tE"
      },
      "source": [
        "# deleteing the not relevant result \n",
        "# del result[0]"
      ],
      "execution_count": null,
      "outputs": []
    },
    {
      "cell_type": "code",
      "metadata": {
        "colab": {
          "base_uri": "https://localhost:8080/",
          "height": 408
        },
        "id": "Wg9FJ3DR8gC9",
        "outputId": "00eeeea8-7c87-47f1-fee4-0946ac882c7c"
      },
      "source": [
        "from matplotlib import pyplot as plt\n",
        "x_val = [x[0] for x in result]\n",
        "y_val = [x[1] for x in result]\n",
        "\n",
        "plt.plot(x_val,y_val)\n",
        "plt.title('SPARK MLlib, MF - RMSE')\n",
        "plt.ylabel('RMSE')\n",
        "plt.xlabel('Rank,Iteration',labelpad=100)\n",
        "plt.figure(figsize= (300,100), dpi= 100)\n",
        "plt.show()"
      ],
      "execution_count": null,
      "outputs": [
        {
          "output_type": "display_data",
          "data": {
            "image/png": "[encoded data removed]",
            "text/plain": [
              "<Figure size 432x288 with 1 Axes>"
            ]
          },
          "metadata": {
            "needs_background": "light"
          }
        },
        {
          "output_type": "display_data",
          "data": {
            "text/plain": [
              "<Figure size 30000x10000 with 0 Axes>"
            ]
          },
          "metadata": {}
        }
      ]
    },
    {
      "cell_type": "code",
      "metadata": {
        "id": "gXj3uXCtq8HA"
      },
      "source": [
        ""
      ],
      "execution_count": null,
      "outputs": []
    }
  ]
}